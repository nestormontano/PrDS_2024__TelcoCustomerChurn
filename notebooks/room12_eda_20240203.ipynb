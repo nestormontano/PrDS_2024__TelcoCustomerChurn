{
  "cells": [
    {
      "cell_type": "markdown",
      "id": "c1a80e9ef36d35d9",
      "metadata": {
        "collapsed": false
      },
      "source": [
        "# PrDS_2024__TelcoCustomerChurn\n",
        "Telco Customer Churn. Focused customer retention programs"
      ]
    },
    {
      "cell_type": "markdown",
      "id": "a4621d356ce64269",
      "metadata": {
        "collapsed": false
      },
      "source": [
        "## Libraries"
      ]
    },
    {
      "cell_type": "code",
      "execution_count": 188,
      "id": "cb4a3bd5f4b5d281",
      "metadata": {
        "ExecuteTime": {
          "end_time": "2024-02-21T01:34:55.219842200Z",
          "start_time": "2024-02-21T01:34:55.190842300Z"
        },
        "collapsed": false
      },
      "outputs": [],
      "source": [
        "from typing import Any\n",
        "\n",
        "import numpy as np\n",
        "import pandas as pd\n",
        "\n",
        "pd.set_option(\"display.max_columns\", 30)\n",
        "pd.set_option(\"display.width\", 1440)"
      ]
    },
    {
      "cell_type": "markdown",
      "id": "67f4cb5b0546e1af",
      "metadata": {
        "collapsed": false
      },
      "source": [
        "## Data Extraction"
      ]
    },
    {
      "cell_type": "code",
      "execution_count": 189,
      "id": "b02e5beb7ebce41e",
      "metadata": {
        "ExecuteTime": {
          "end_time": "2024-02-21T01:34:55.253841100Z",
          "start_time": "2024-02-21T01:34:55.222842900Z"
        },
        "collapsed": false
      },
      "outputs": [],
      "source": [
        "dtype: dict[str, Any] = {\n",
        "    \"customerID\": str,\n",
        "    \"gender\": \"category\",\n",
        "    \"SeniorCitizen\": bool,\n",
        "    \"Partner\": \"category\",\n",
        "    \"Dependents\": \"category\",\n",
        "    \"tenure\": int,\n",
        "    \"PhoneService\": \"category\",\n",
        "    \"MultipleLines\": \"category\",\n",
        "    \"InternetService\": \"category\",\n",
        "    \"OnlineSecurity\": \"category\",\n",
        "    \"OnlineBackup\": \"category\",\n",
        "    \"DeviceProtection\": \"category\",\n",
        "    \"TechSupport\": \"category\",\n",
        "    \"StreamingTV\": \"category\",\n",
        "    \"StreamingMovies\": \"category\",\n",
        "    \"Contract\": \"category\",\n",
        "    \"PaperlessBilling\": \"category\",\n",
        "    \"PaymentMethod\": \"category\",\n",
        "    \"MonthlyCharges\": float,\n",
        "    \"Churn\": \"category\",\n",
        "}\n",
        "raw_dataframe: pd.DataFrame = pd.read_csv(\n",
        "    \"../data/raw/WA_Fn-UseC_-Telco-Customer-Churn.csv\", dtype=dtype\n",
        ")"
      ]
    },
    {
      "cell_type": "markdown",
      "id": "f728675966b82049",
      "metadata": {
        "collapsed": false
      },
      "source": [
        "## Numerical Data Analysis"
      ]
    },
    {
      "cell_type": "code",
      "execution_count": 190,
      "id": "d7901ba0938e6818",
      "metadata": {
        "ExecuteTime": {
          "end_time": "2024-02-21T01:34:55.270842Z",
          "start_time": "2024-02-21T01:34:55.245841800Z"
        },
        "collapsed": false
      },
      "outputs": [
        {
          "data": {
            "text/html": "<div>\n<style scoped>\n    .dataframe tbody tr th:only-of-type {\n        vertical-align: middle;\n    }\n\n    .dataframe tbody tr th {\n        vertical-align: top;\n    }\n\n    .dataframe thead th {\n        text-align: right;\n    }\n</style>\n<table border=\"1\" class=\"dataframe\">\n  <thead>\n    <tr style=\"text-align: right;\">\n      <th></th>\n      <th>customerID</th>\n      <th>gender</th>\n      <th>SeniorCitizen</th>\n      <th>Partner</th>\n      <th>Dependents</th>\n      <th>tenure</th>\n      <th>PhoneService</th>\n      <th>MultipleLines</th>\n      <th>InternetService</th>\n      <th>OnlineSecurity</th>\n      <th>OnlineBackup</th>\n      <th>DeviceProtection</th>\n      <th>TechSupport</th>\n      <th>StreamingTV</th>\n      <th>StreamingMovies</th>\n      <th>Contract</th>\n      <th>PaperlessBilling</th>\n      <th>PaymentMethod</th>\n      <th>MonthlyCharges</th>\n      <th>TotalCharges</th>\n      <th>Churn</th>\n    </tr>\n  </thead>\n  <tbody>\n    <tr>\n      <th>0</th>\n      <td>7590-VHVEG</td>\n      <td>Female</td>\n      <td>False</td>\n      <td>Yes</td>\n      <td>No</td>\n      <td>1</td>\n      <td>No</td>\n      <td>No phone service</td>\n      <td>DSL</td>\n      <td>No</td>\n      <td>Yes</td>\n      <td>No</td>\n      <td>No</td>\n      <td>No</td>\n      <td>No</td>\n      <td>Month-to-month</td>\n      <td>Yes</td>\n      <td>Electronic check</td>\n      <td>29.85</td>\n      <td>29.85</td>\n      <td>No</td>\n    </tr>\n    <tr>\n      <th>1</th>\n      <td>5575-GNVDE</td>\n      <td>Male</td>\n      <td>False</td>\n      <td>No</td>\n      <td>No</td>\n      <td>34</td>\n      <td>Yes</td>\n      <td>No</td>\n      <td>DSL</td>\n      <td>Yes</td>\n      <td>No</td>\n      <td>Yes</td>\n      <td>No</td>\n      <td>No</td>\n      <td>No</td>\n      <td>One year</td>\n      <td>No</td>\n      <td>Mailed check</td>\n      <td>56.95</td>\n      <td>1889.5</td>\n      <td>No</td>\n    </tr>\n    <tr>\n      <th>2</th>\n      <td>3668-QPYBK</td>\n      <td>Male</td>\n      <td>False</td>\n      <td>No</td>\n      <td>No</td>\n      <td>2</td>\n      <td>Yes</td>\n      <td>No</td>\n      <td>DSL</td>\n      <td>Yes</td>\n      <td>Yes</td>\n      <td>No</td>\n      <td>No</td>\n      <td>No</td>\n      <td>No</td>\n      <td>Month-to-month</td>\n      <td>Yes</td>\n      <td>Mailed check</td>\n      <td>53.85</td>\n      <td>108.15</td>\n      <td>Yes</td>\n    </tr>\n    <tr>\n      <th>3</th>\n      <td>7795-CFOCW</td>\n      <td>Male</td>\n      <td>False</td>\n      <td>No</td>\n      <td>No</td>\n      <td>45</td>\n      <td>No</td>\n      <td>No phone service</td>\n      <td>DSL</td>\n      <td>Yes</td>\n      <td>No</td>\n      <td>Yes</td>\n      <td>Yes</td>\n      <td>No</td>\n      <td>No</td>\n      <td>One year</td>\n      <td>No</td>\n      <td>Bank transfer (automatic)</td>\n      <td>42.30</td>\n      <td>1840.75</td>\n      <td>No</td>\n    </tr>\n    <tr>\n      <th>4</th>\n      <td>9237-HQITU</td>\n      <td>Female</td>\n      <td>False</td>\n      <td>No</td>\n      <td>No</td>\n      <td>2</td>\n      <td>Yes</td>\n      <td>No</td>\n      <td>Fiber optic</td>\n      <td>No</td>\n      <td>No</td>\n      <td>No</td>\n      <td>No</td>\n      <td>No</td>\n      <td>No</td>\n      <td>Month-to-month</td>\n      <td>Yes</td>\n      <td>Electronic check</td>\n      <td>70.70</td>\n      <td>151.65</td>\n      <td>Yes</td>\n    </tr>\n    <tr>\n      <th>...</th>\n      <td>...</td>\n      <td>...</td>\n      <td>...</td>\n      <td>...</td>\n      <td>...</td>\n      <td>...</td>\n      <td>...</td>\n      <td>...</td>\n      <td>...</td>\n      <td>...</td>\n      <td>...</td>\n      <td>...</td>\n      <td>...</td>\n      <td>...</td>\n      <td>...</td>\n      <td>...</td>\n      <td>...</td>\n      <td>...</td>\n      <td>...</td>\n      <td>...</td>\n      <td>...</td>\n    </tr>\n    <tr>\n      <th>7038</th>\n      <td>6840-RESVB</td>\n      <td>Male</td>\n      <td>False</td>\n      <td>Yes</td>\n      <td>Yes</td>\n      <td>24</td>\n      <td>Yes</td>\n      <td>Yes</td>\n      <td>DSL</td>\n      <td>Yes</td>\n      <td>No</td>\n      <td>Yes</td>\n      <td>Yes</td>\n      <td>Yes</td>\n      <td>Yes</td>\n      <td>One year</td>\n      <td>Yes</td>\n      <td>Mailed check</td>\n      <td>84.80</td>\n      <td>1990.5</td>\n      <td>No</td>\n    </tr>\n    <tr>\n      <th>7039</th>\n      <td>2234-XADUH</td>\n      <td>Female</td>\n      <td>False</td>\n      <td>Yes</td>\n      <td>Yes</td>\n      <td>72</td>\n      <td>Yes</td>\n      <td>Yes</td>\n      <td>Fiber optic</td>\n      <td>No</td>\n      <td>Yes</td>\n      <td>Yes</td>\n      <td>No</td>\n      <td>Yes</td>\n      <td>Yes</td>\n      <td>One year</td>\n      <td>Yes</td>\n      <td>Credit card (automatic)</td>\n      <td>103.20</td>\n      <td>7362.9</td>\n      <td>No</td>\n    </tr>\n    <tr>\n      <th>7040</th>\n      <td>4801-JZAZL</td>\n      <td>Female</td>\n      <td>False</td>\n      <td>Yes</td>\n      <td>Yes</td>\n      <td>11</td>\n      <td>No</td>\n      <td>No phone service</td>\n      <td>DSL</td>\n      <td>Yes</td>\n      <td>No</td>\n      <td>No</td>\n      <td>No</td>\n      <td>No</td>\n      <td>No</td>\n      <td>Month-to-month</td>\n      <td>Yes</td>\n      <td>Electronic check</td>\n      <td>29.60</td>\n      <td>346.45</td>\n      <td>No</td>\n    </tr>\n    <tr>\n      <th>7041</th>\n      <td>8361-LTMKD</td>\n      <td>Male</td>\n      <td>True</td>\n      <td>Yes</td>\n      <td>No</td>\n      <td>4</td>\n      <td>Yes</td>\n      <td>Yes</td>\n      <td>Fiber optic</td>\n      <td>No</td>\n      <td>No</td>\n      <td>No</td>\n      <td>No</td>\n      <td>No</td>\n      <td>No</td>\n      <td>Month-to-month</td>\n      <td>Yes</td>\n      <td>Mailed check</td>\n      <td>74.40</td>\n      <td>306.6</td>\n      <td>Yes</td>\n    </tr>\n    <tr>\n      <th>7042</th>\n      <td>3186-AJIEK</td>\n      <td>Male</td>\n      <td>False</td>\n      <td>No</td>\n      <td>No</td>\n      <td>66</td>\n      <td>Yes</td>\n      <td>No</td>\n      <td>Fiber optic</td>\n      <td>Yes</td>\n      <td>No</td>\n      <td>Yes</td>\n      <td>Yes</td>\n      <td>Yes</td>\n      <td>Yes</td>\n      <td>Two year</td>\n      <td>Yes</td>\n      <td>Bank transfer (automatic)</td>\n      <td>105.65</td>\n      <td>6844.5</td>\n      <td>No</td>\n    </tr>\n  </tbody>\n</table>\n<p>7043 rows \u00d7 21 columns</p>\n</div>",
            "text/plain": "      customerID  gender  SeniorCitizen Partner Dependents  tenure PhoneService     MultipleLines InternetService OnlineSecurity OnlineBackup DeviceProtection TechSupport StreamingTV StreamingMovies        Contract PaperlessBilling              PaymentMethod  MonthlyCharges TotalCharges Churn\n0     7590-VHVEG  Female          False     Yes         No       1           No  No phone service             DSL             No          Yes               No          No          No              No  Month-to-month              Yes           Electronic check           29.85        29.85    No\n1     5575-GNVDE    Male          False      No         No      34          Yes                No             DSL            Yes           No              Yes          No          No              No        One year               No               Mailed check           56.95       1889.5    No\n2     3668-QPYBK    Male          False      No         No       2          Yes                No             DSL            Yes          Yes               No          No          No              No  Month-to-month              Yes               Mailed check           53.85       108.15   Yes\n3     7795-CFOCW    Male          False      No         No      45           No  No phone service             DSL            Yes           No              Yes         Yes          No              No        One year               No  Bank transfer (automatic)           42.30      1840.75    No\n4     9237-HQITU  Female          False      No         No       2          Yes                No     Fiber optic             No           No               No          No          No              No  Month-to-month              Yes           Electronic check           70.70       151.65   Yes\n...          ...     ...            ...     ...        ...     ...          ...               ...             ...            ...          ...              ...         ...         ...             ...             ...              ...                        ...             ...          ...   ...\n7038  6840-RESVB    Male          False     Yes        Yes      24          Yes               Yes             DSL            Yes           No              Yes         Yes         Yes             Yes        One year              Yes               Mailed check           84.80       1990.5    No\n7039  2234-XADUH  Female          False     Yes        Yes      72          Yes               Yes     Fiber optic             No          Yes              Yes          No         Yes             Yes        One year              Yes    Credit card (automatic)          103.20       7362.9    No\n7040  4801-JZAZL  Female          False     Yes        Yes      11           No  No phone service             DSL            Yes           No               No          No          No              No  Month-to-month              Yes           Electronic check           29.60       346.45    No\n7041  8361-LTMKD    Male           True     Yes         No       4          Yes               Yes     Fiber optic             No           No               No          No          No              No  Month-to-month              Yes               Mailed check           74.40        306.6   Yes\n7042  3186-AJIEK    Male          False      No         No      66          Yes                No     Fiber optic            Yes           No              Yes         Yes         Yes             Yes        Two year              Yes  Bank transfer (automatic)          105.65       6844.5    No\n\n[7043 rows x 21 columns]"
          },
          "execution_count": 190,
          "metadata": {},
          "output_type": "execute_result"
        }
      ],
      "source": [
        "raw_dataframe"
      ]
    },
    {
      "cell_type": "code",
      "execution_count": 191,
      "id": "6cc736b809cfce86",
      "metadata": {
        "ExecuteTime": {
          "end_time": "2024-02-21T01:34:55.272340400Z",
          "start_time": "2024-02-21T01:34:55.259343Z"
        },
        "collapsed": false
      },
      "outputs": [
        {
          "name": "stdout",
          "output_type": "stream",
          "text": [
            "(7043, 21)\n"
          ]
        }
      ],
      "source": [
        "print(raw_dataframe.shape)"
      ]
    },
    {
      "cell_type": "code",
      "execution_count": 192,
      "id": "e09203966d1a0b85",
      "metadata": {
        "ExecuteTime": {
          "end_time": "2024-02-21T01:34:55.302341900Z",
          "start_time": "2024-02-21T01:34:55.264341100Z"
        },
        "collapsed": false
      },
      "outputs": [
        {
          "data": {
            "text/plain": "customerID            object\ngender              category\nSeniorCitizen           bool\nPartner             category\nDependents          category\ntenure                 int32\nPhoneService        category\nMultipleLines       category\nInternetService     category\nOnlineSecurity      category\nOnlineBackup        category\nDeviceProtection    category\nTechSupport         category\nStreamingTV         category\nStreamingMovies     category\nContract            category\nPaperlessBilling    category\nPaymentMethod       category\nMonthlyCharges       float64\nTotalCharges          object\nChurn               category\ndtype: object"
          },
          "execution_count": 192,
          "metadata": {},
          "output_type": "execute_result"
        }
      ],
      "source": [
        "raw_dataframe.dtypes"
      ]
    },
    {
      "cell_type": "code",
      "execution_count": 193,
      "id": "84ce973b0688fc0b",
      "metadata": {
        "ExecuteTime": {
          "end_time": "2024-02-21T01:34:55.305341100Z",
          "start_time": "2024-02-21T01:34:55.266840800Z"
        },
        "collapsed": false
      },
      "outputs": [
        {
          "name": "stdout",
          "output_type": "stream",
          "text": [
            "<class 'pandas.core.frame.DataFrame'>\n",
            "RangeIndex: 7043 entries, 0 to 7042\n",
            "Data columns (total 21 columns):\n",
            " #   Column            Non-Null Count  Dtype   \n",
            "---  ------            --------------  -----   \n",
            " 0   customerID        7043 non-null   object  \n",
            " 1   gender            7043 non-null   category\n",
            " 2   SeniorCitizen     7043 non-null   bool    \n",
            " 3   Partner           7043 non-null   category\n",
            " 4   Dependents        7043 non-null   category\n",
            " 5   tenure            7043 non-null   int32   \n",
            " 6   PhoneService      7043 non-null   category\n",
            " 7   MultipleLines     7043 non-null   category\n",
            " 8   InternetService   7043 non-null   category\n",
            " 9   OnlineSecurity    7043 non-null   category\n",
            " 10  OnlineBackup      7043 non-null   category\n",
            " 11  DeviceProtection  7043 non-null   category\n",
            " 12  TechSupport       7043 non-null   category\n",
            " 13  StreamingTV       7043 non-null   category\n",
            " 14  StreamingMovies   7043 non-null   category\n",
            " 15  Contract          7043 non-null   category\n",
            " 16  PaperlessBilling  7043 non-null   category\n",
            " 17  PaymentMethod     7043 non-null   category\n",
            " 18  MonthlyCharges    7043 non-null   float64 \n",
            " 19  TotalCharges      7043 non-null   object  \n",
            " 20  Churn             7043 non-null   category\n",
            "dtypes: bool(1), category(16), float64(1), int32(1), object(2)\n",
            "memory usage: 1.1 MB\n"
          ]
        }
      ],
      "source": [
        "raw_dataframe.info(memory_usage=\"deep\")"
      ]
    },
    {
      "cell_type": "code",
      "execution_count": 194,
      "id": "1988af5102a72be1",
      "metadata": {
        "ExecuteTime": {
          "end_time": "2024-02-21T01:34:55.321841100Z",
          "start_time": "2024-02-21T01:34:55.275841200Z"
        },
        "collapsed": false
      },
      "outputs": [
        {
          "data": {
            "text/plain": "Index                  132\ncustomerID          471881\ngender                7167\nSeniorCitizen         7043\nPartner               7270\nDependents            7162\ntenure               28172\nPhoneService          7162\nMultipleLines         7343\nInternetService       7230\nOnlineSecurity        7346\nOnlineBackup          7346\nDeviceProtection      7346\nTechSupport           7346\nStreamingTV           7346\nStreamingMovies       7346\nContract              7244\nPaperlessBilling      7270\nPaymentMethod         7519\nMonthlyCharges       56344\nTotalCharges        442846\nChurn                 7162\ndtype: int64"
          },
          "execution_count": 194,
          "metadata": {},
          "output_type": "execute_result"
        }
      ],
      "source": [
        "raw_dataframe.memory_usage(deep=True)"
      ]
    },
    {
      "cell_type": "code",
      "execution_count": 195,
      "id": "f6902774085250a7",
      "metadata": {
        "ExecuteTime": {
          "end_time": "2024-02-21T01:34:55.362341700Z",
          "start_time": "2024-02-21T01:34:55.281842Z"
        },
        "collapsed": false
      },
      "outputs": [
        {
          "data": {
            "text/html": "<div>\n<style scoped>\n    .dataframe tbody tr th:only-of-type {\n        vertical-align: middle;\n    }\n\n    .dataframe tbody tr th {\n        vertical-align: top;\n    }\n\n    .dataframe thead th {\n        text-align: right;\n    }\n</style>\n<table border=\"1\" class=\"dataframe\">\n  <thead>\n    <tr style=\"text-align: right;\">\n      <th></th>\n      <th>customerID</th>\n      <th>gender</th>\n      <th>SeniorCitizen</th>\n      <th>Partner</th>\n      <th>Dependents</th>\n      <th>tenure</th>\n      <th>PhoneService</th>\n      <th>MultipleLines</th>\n      <th>InternetService</th>\n      <th>OnlineSecurity</th>\n      <th>OnlineBackup</th>\n      <th>DeviceProtection</th>\n      <th>TechSupport</th>\n      <th>StreamingTV</th>\n      <th>StreamingMovies</th>\n      <th>Contract</th>\n      <th>PaperlessBilling</th>\n      <th>PaymentMethod</th>\n      <th>MonthlyCharges</th>\n      <th>TotalCharges</th>\n      <th>Churn</th>\n    </tr>\n  </thead>\n  <tbody>\n    <tr>\n      <th>count</th>\n      <td>7043</td>\n      <td>7043</td>\n      <td>7043</td>\n      <td>7043</td>\n      <td>7043</td>\n      <td>7043.000000</td>\n      <td>7043</td>\n      <td>7043</td>\n      <td>7043</td>\n      <td>7043</td>\n      <td>7043</td>\n      <td>7043</td>\n      <td>7043</td>\n      <td>7043</td>\n      <td>7043</td>\n      <td>7043</td>\n      <td>7043</td>\n      <td>7043</td>\n      <td>7043.000000</td>\n      <td>7043</td>\n      <td>7043</td>\n    </tr>\n    <tr>\n      <th>unique</th>\n      <td>7043</td>\n      <td>2</td>\n      <td>2</td>\n      <td>2</td>\n      <td>2</td>\n      <td>NaN</td>\n      <td>2</td>\n      <td>3</td>\n      <td>3</td>\n      <td>3</td>\n      <td>3</td>\n      <td>3</td>\n      <td>3</td>\n      <td>3</td>\n      <td>3</td>\n      <td>3</td>\n      <td>2</td>\n      <td>4</td>\n      <td>NaN</td>\n      <td>6531</td>\n      <td>2</td>\n    </tr>\n    <tr>\n      <th>top</th>\n      <td>7590-VHVEG</td>\n      <td>Male</td>\n      <td>False</td>\n      <td>No</td>\n      <td>No</td>\n      <td>NaN</td>\n      <td>Yes</td>\n      <td>No</td>\n      <td>Fiber optic</td>\n      <td>No</td>\n      <td>No</td>\n      <td>No</td>\n      <td>No</td>\n      <td>No</td>\n      <td>No</td>\n      <td>Month-to-month</td>\n      <td>Yes</td>\n      <td>Electronic check</td>\n      <td>NaN</td>\n      <td></td>\n      <td>No</td>\n    </tr>\n    <tr>\n      <th>freq</th>\n      <td>1</td>\n      <td>3555</td>\n      <td>5901</td>\n      <td>3641</td>\n      <td>4933</td>\n      <td>NaN</td>\n      <td>6361</td>\n      <td>3390</td>\n      <td>3096</td>\n      <td>3498</td>\n      <td>3088</td>\n      <td>3095</td>\n      <td>3473</td>\n      <td>2810</td>\n      <td>2785</td>\n      <td>3875</td>\n      <td>4171</td>\n      <td>2365</td>\n      <td>NaN</td>\n      <td>11</td>\n      <td>5174</td>\n    </tr>\n    <tr>\n      <th>mean</th>\n      <td>NaN</td>\n      <td>NaN</td>\n      <td>NaN</td>\n      <td>NaN</td>\n      <td>NaN</td>\n      <td>32.371149</td>\n      <td>NaN</td>\n      <td>NaN</td>\n      <td>NaN</td>\n      <td>NaN</td>\n      <td>NaN</td>\n      <td>NaN</td>\n      <td>NaN</td>\n      <td>NaN</td>\n      <td>NaN</td>\n      <td>NaN</td>\n      <td>NaN</td>\n      <td>NaN</td>\n      <td>64.761692</td>\n      <td>NaN</td>\n      <td>NaN</td>\n    </tr>\n    <tr>\n      <th>std</th>\n      <td>NaN</td>\n      <td>NaN</td>\n      <td>NaN</td>\n      <td>NaN</td>\n      <td>NaN</td>\n      <td>24.559481</td>\n      <td>NaN</td>\n      <td>NaN</td>\n      <td>NaN</td>\n      <td>NaN</td>\n      <td>NaN</td>\n      <td>NaN</td>\n      <td>NaN</td>\n      <td>NaN</td>\n      <td>NaN</td>\n      <td>NaN</td>\n      <td>NaN</td>\n      <td>NaN</td>\n      <td>30.090047</td>\n      <td>NaN</td>\n      <td>NaN</td>\n    </tr>\n    <tr>\n      <th>min</th>\n      <td>NaN</td>\n      <td>NaN</td>\n      <td>NaN</td>\n      <td>NaN</td>\n      <td>NaN</td>\n      <td>0.000000</td>\n      <td>NaN</td>\n      <td>NaN</td>\n      <td>NaN</td>\n      <td>NaN</td>\n      <td>NaN</td>\n      <td>NaN</td>\n      <td>NaN</td>\n      <td>NaN</td>\n      <td>NaN</td>\n      <td>NaN</td>\n      <td>NaN</td>\n      <td>NaN</td>\n      <td>18.250000</td>\n      <td>NaN</td>\n      <td>NaN</td>\n    </tr>\n    <tr>\n      <th>25%</th>\n      <td>NaN</td>\n      <td>NaN</td>\n      <td>NaN</td>\n      <td>NaN</td>\n      <td>NaN</td>\n      <td>9.000000</td>\n      <td>NaN</td>\n      <td>NaN</td>\n      <td>NaN</td>\n      <td>NaN</td>\n      <td>NaN</td>\n      <td>NaN</td>\n      <td>NaN</td>\n      <td>NaN</td>\n      <td>NaN</td>\n      <td>NaN</td>\n      <td>NaN</td>\n      <td>NaN</td>\n      <td>35.500000</td>\n      <td>NaN</td>\n      <td>NaN</td>\n    </tr>\n    <tr>\n      <th>50%</th>\n      <td>NaN</td>\n      <td>NaN</td>\n      <td>NaN</td>\n      <td>NaN</td>\n      <td>NaN</td>\n      <td>29.000000</td>\n      <td>NaN</td>\n      <td>NaN</td>\n      <td>NaN</td>\n      <td>NaN</td>\n      <td>NaN</td>\n      <td>NaN</td>\n      <td>NaN</td>\n      <td>NaN</td>\n      <td>NaN</td>\n      <td>NaN</td>\n      <td>NaN</td>\n      <td>NaN</td>\n      <td>70.350000</td>\n      <td>NaN</td>\n      <td>NaN</td>\n    </tr>\n    <tr>\n      <th>75%</th>\n      <td>NaN</td>\n      <td>NaN</td>\n      <td>NaN</td>\n      <td>NaN</td>\n      <td>NaN</td>\n      <td>55.000000</td>\n      <td>NaN</td>\n      <td>NaN</td>\n      <td>NaN</td>\n      <td>NaN</td>\n      <td>NaN</td>\n      <td>NaN</td>\n      <td>NaN</td>\n      <td>NaN</td>\n      <td>NaN</td>\n      <td>NaN</td>\n      <td>NaN</td>\n      <td>NaN</td>\n      <td>89.850000</td>\n      <td>NaN</td>\n      <td>NaN</td>\n    </tr>\n    <tr>\n      <th>max</th>\n      <td>NaN</td>\n      <td>NaN</td>\n      <td>NaN</td>\n      <td>NaN</td>\n      <td>NaN</td>\n      <td>72.000000</td>\n      <td>NaN</td>\n      <td>NaN</td>\n      <td>NaN</td>\n      <td>NaN</td>\n      <td>NaN</td>\n      <td>NaN</td>\n      <td>NaN</td>\n      <td>NaN</td>\n      <td>NaN</td>\n      <td>NaN</td>\n      <td>NaN</td>\n      <td>NaN</td>\n      <td>118.750000</td>\n      <td>NaN</td>\n      <td>NaN</td>\n    </tr>\n  </tbody>\n</table>\n</div>",
            "text/plain": "        customerID gender SeniorCitizen Partner Dependents       tenure PhoneService MultipleLines InternetService OnlineSecurity OnlineBackup DeviceProtection TechSupport StreamingTV StreamingMovies        Contract PaperlessBilling     PaymentMethod  MonthlyCharges TotalCharges Churn\ncount         7043   7043          7043    7043       7043  7043.000000         7043          7043            7043           7043         7043             7043        7043        7043            7043            7043             7043              7043     7043.000000         7043  7043\nunique        7043      2             2       2          2          NaN            2             3               3              3            3                3           3           3               3               3                2                 4             NaN         6531     2\ntop     7590-VHVEG   Male         False      No         No          NaN          Yes            No     Fiber optic             No           No               No          No          No              No  Month-to-month              Yes  Electronic check             NaN                 No\nfreq             1   3555          5901    3641       4933          NaN         6361          3390            3096           3498         3088             3095        3473        2810            2785            3875             4171              2365             NaN           11  5174\nmean           NaN    NaN           NaN     NaN        NaN    32.371149          NaN           NaN             NaN            NaN          NaN              NaN         NaN         NaN             NaN             NaN              NaN               NaN       64.761692          NaN   NaN\nstd            NaN    NaN           NaN     NaN        NaN    24.559481          NaN           NaN             NaN            NaN          NaN              NaN         NaN         NaN             NaN             NaN              NaN               NaN       30.090047          NaN   NaN\nmin            NaN    NaN           NaN     NaN        NaN     0.000000          NaN           NaN             NaN            NaN          NaN              NaN         NaN         NaN             NaN             NaN              NaN               NaN       18.250000          NaN   NaN\n25%            NaN    NaN           NaN     NaN        NaN     9.000000          NaN           NaN             NaN            NaN          NaN              NaN         NaN         NaN             NaN             NaN              NaN               NaN       35.500000          NaN   NaN\n50%            NaN    NaN           NaN     NaN        NaN    29.000000          NaN           NaN             NaN            NaN          NaN              NaN         NaN         NaN             NaN             NaN              NaN               NaN       70.350000          NaN   NaN\n75%            NaN    NaN           NaN     NaN        NaN    55.000000          NaN           NaN             NaN            NaN          NaN              NaN         NaN         NaN             NaN             NaN              NaN               NaN       89.850000          NaN   NaN\nmax            NaN    NaN           NaN     NaN        NaN    72.000000          NaN           NaN             NaN            NaN          NaN              NaN         NaN         NaN             NaN             NaN              NaN               NaN      118.750000          NaN   NaN"
          },
          "execution_count": 195,
          "metadata": {},
          "output_type": "execute_result"
        }
      ],
      "source": [
        "raw_dataframe.describe(include=\"all\")"
      ]
    },
    {
      "cell_type": "markdown",
      "id": "455afdcef95c230",
      "metadata": {
        "collapsed": false
      },
      "source": [
        "## Missing values"
      ]
    },
    {
      "cell_type": "code",
      "execution_count": 196,
      "id": "7d2ed9fc67c24c4f",
      "metadata": {
        "ExecuteTime": {
          "end_time": "2024-02-21T01:34:55.385341200Z",
          "start_time": "2024-02-21T01:34:55.309342100Z"
        },
        "collapsed": false
      },
      "outputs": [
        {
          "name": "stdout",
          "output_type": "stream",
          "text": [
            "                  Missing Values  Percent\n",
            "customerID                     0      0.0\n",
            "gender                         0      0.0\n",
            "SeniorCitizen                  0      0.0\n",
            "Partner                        0      0.0\n",
            "Dependents                     0      0.0\n",
            "tenure                         0      0.0\n",
            "PhoneService                   0      0.0\n",
            "MultipleLines                  0      0.0\n",
            "InternetService                0      0.0\n",
            "OnlineSecurity                 0      0.0\n",
            "OnlineBackup                   0      0.0\n",
            "DeviceProtection               0      0.0\n",
            "TechSupport                    0      0.0\n",
            "StreamingTV                    0      0.0\n",
            "StreamingMovies                0      0.0\n",
            "Contract                       0      0.0\n",
            "PaperlessBilling               0      0.0\n",
            "PaymentMethod                  0      0.0\n",
            "MonthlyCharges                 0      0.0\n",
            "TotalCharges                   0      0.0\n",
            "Churn                          0      0.0\n"
          ]
        }
      ],
      "source": [
        "missing_values: int = raw_dataframe.isnull().sum()\n",
        "percent_missing: float = (missing_values / raw_dataframe.shape[0]) * 100\n",
        "print(\n",
        "    pd.DataFrame({\"Missing Values\": missing_values, \"Percent\": percent_missing})\n",
        ")"
      ]
    },
    {
      "cell_type": "markdown",
      "id": "eb76ae877323ab47",
      "metadata": {
        "collapsed": false
      },
      "source": [
        "## Unique"
      ]
    },
    {
      "cell_type": "code",
      "execution_count": 197,
      "id": "128e69cd6d7cf5e3",
      "metadata": {
        "ExecuteTime": {
          "end_time": "2024-02-21T01:34:55.412340300Z",
          "start_time": "2024-02-21T01:34:55.315841300Z"
        },
        "collapsed": false
      },
      "outputs": [
        {
          "name": "stdout",
          "output_type": "stream",
          "text": [
            "customerID\n",
            "7590-VHVEG    1\n",
            "3791-LGQCY    1\n",
            "6008-NAIXK    1\n",
            "5956-YHHRX    1\n",
            "5365-LLFYV    1\n",
            "             ..\n",
            "9796-MVYXX    1\n",
            "2637-FKFSY    1\n",
            "1552-AAGRX    1\n",
            "4304-TSPVK    1\n",
            "3186-AJIEK    1\n",
            "Name: count, Length: 7043, dtype: int64\n",
            "['7590-VHVEG' '5575-GNVDE' '3668-QPYBK' ... '4801-JZAZL' '8361-LTMKD'\n",
            " '3186-AJIEK']\n",
            "customerID\n",
            "7590-VHVEG    0.014198\n",
            "3791-LGQCY    0.014198\n",
            "6008-NAIXK    0.014198\n",
            "5956-YHHRX    0.014198\n",
            "5365-LLFYV    0.014198\n",
            "                ...   \n",
            "9796-MVYXX    0.014198\n",
            "2637-FKFSY    0.014198\n",
            "1552-AAGRX    0.014198\n",
            "4304-TSPVK    0.014198\n",
            "3186-AJIEK    0.014198\n",
            "Name: proportion, Length: 7043, dtype: float64\n",
            "gender\n",
            "Male      3555\n",
            "Female    3488\n",
            "Name: count, dtype: int64\n",
            "['Female', 'Male']\n",
            "Categories (2, object): ['Female', 'Male']\n",
            "gender\n",
            "Male      50.47565\n",
            "Female    49.52435\n",
            "Name: proportion, dtype: float64\n",
            "SeniorCitizen\n",
            "False    5901\n",
            "True     1142\n",
            "Name: count, dtype: int64\n",
            "[False  True]\n",
            "SeniorCitizen\n",
            "False    83.785319\n",
            "True     16.214681\n",
            "Name: proportion, dtype: float64\n",
            "Partner\n",
            "No     3641\n",
            "Yes    3402\n",
            "Name: count, dtype: int64\n",
            "['Yes', 'No']\n",
            "Categories (2, object): ['No', 'Yes']\n",
            "Partner\n",
            "No     51.69672\n",
            "Yes    48.30328\n",
            "Name: proportion, dtype: float64\n",
            "Dependents\n",
            "No     4933\n",
            "Yes    2110\n",
            "Name: count, dtype: int64\n",
            "['No', 'Yes']\n",
            "Categories (2, object): ['No', 'Yes']\n",
            "Dependents\n",
            "No     70.041176\n",
            "Yes    29.958824\n",
            "Name: proportion, dtype: float64\n",
            "tenure\n",
            "1     613\n",
            "72    362\n",
            "2     238\n",
            "3     200\n",
            "4     176\n",
            "     ... \n",
            "28     57\n",
            "39     56\n",
            "44     51\n",
            "36     50\n",
            "0      11\n",
            "Name: count, Length: 73, dtype: int64\n",
            "[ 1 34  2 45  8 22 10 28 62 13 16 58 49 25 69 52 71 21 12 30 47 72 17 27\n",
            "  5 46 11 70 63 43 15 60 18 66  9  3 31 50 64 56  7 42 35 48 29 65 38 68\n",
            " 32 55 37 36 41  6  4 33 67 23 57 61 14 20 53 40 59 24 44 19 54 51 26  0\n",
            " 39]\n",
            "tenure\n",
            "1     8.703677\n",
            "72    5.139855\n",
            "2     3.379242\n",
            "3     2.839699\n",
            "4     2.498935\n",
            "        ...   \n",
            "28    0.809314\n",
            "39    0.795116\n",
            "44    0.724123\n",
            "36    0.709925\n",
            "0     0.156183\n",
            "Name: proportion, Length: 73, dtype: float64\n",
            "PhoneService\n",
            "Yes    6361\n",
            "No      682\n",
            "Name: count, dtype: int64\n",
            "['No', 'Yes']\n",
            "Categories (2, object): ['No', 'Yes']\n",
            "PhoneService\n",
            "Yes    90.316626\n",
            "No      9.683374\n",
            "Name: proportion, dtype: float64\n",
            "MultipleLines\n",
            "No                  3390\n",
            "Yes                 2971\n",
            "No phone service     682\n",
            "Name: count, dtype: int64\n",
            "['No phone service', 'No', 'Yes']\n",
            "Categories (3, object): ['No', 'No phone service', 'Yes']\n",
            "MultipleLines\n",
            "No                  48.132898\n",
            "Yes                 42.183729\n",
            "No phone service     9.683374\n",
            "Name: proportion, dtype: float64\n",
            "InternetService\n",
            "Fiber optic    3096\n",
            "DSL            2421\n",
            "No             1526\n",
            "Name: count, dtype: int64\n",
            "['DSL', 'Fiber optic', 'No']\n",
            "Categories (3, object): ['DSL', 'Fiber optic', 'No']\n",
            "InternetService\n",
            "Fiber optic    43.958540\n",
            "DSL            34.374556\n",
            "No             21.666903\n",
            "Name: proportion, dtype: float64\n",
            "OnlineSecurity\n",
            "No                     3498\n",
            "Yes                    2019\n",
            "No internet service    1526\n",
            "Name: count, dtype: int64\n",
            "['No', 'Yes', 'No internet service']\n",
            "Categories (3, object): ['No', 'No internet service', 'Yes']\n",
            "OnlineSecurity\n",
            "No                     49.666335\n",
            "Yes                    28.666761\n",
            "No internet service    21.666903\n",
            "Name: proportion, dtype: float64\n",
            "OnlineBackup\n",
            "No                     3088\n",
            "Yes                    2429\n",
            "No internet service    1526\n",
            "Name: count, dtype: int64\n",
            "['Yes', 'No', 'No internet service']\n",
            "Categories (3, object): ['No', 'No internet service', 'Yes']\n",
            "OnlineBackup\n",
            "No                     43.844952\n",
            "Yes                    34.488144\n",
            "No internet service    21.666903\n",
            "Name: proportion, dtype: float64\n",
            "DeviceProtection\n",
            "No                     3095\n",
            "Yes                    2422\n",
            "No internet service    1526\n",
            "Name: count, dtype: int64\n",
            "['No', 'Yes', 'No internet service']\n",
            "Categories (3, object): ['No', 'No internet service', 'Yes']\n",
            "DeviceProtection\n",
            "No                     43.944342\n",
            "Yes                    34.388755\n",
            "No internet service    21.666903\n",
            "Name: proportion, dtype: float64\n",
            "TechSupport\n",
            "No                     3473\n",
            "Yes                    2044\n",
            "No internet service    1526\n",
            "Name: count, dtype: int64\n",
            "['No', 'Yes', 'No internet service']\n",
            "Categories (3, object): ['No', 'No internet service', 'Yes']\n",
            "TechSupport\n",
            "No                     49.311373\n",
            "Yes                    29.021724\n",
            "No internet service    21.666903\n",
            "Name: proportion, dtype: float64\n",
            "StreamingTV\n",
            "No                     2810\n",
            "Yes                    2707\n",
            "No internet service    1526\n",
            "Name: count, dtype: int64\n",
            "['No', 'Yes', 'No internet service']\n",
            "Categories (3, object): ['No', 'No internet service', 'Yes']\n",
            "StreamingTV\n",
            "No                     39.897771\n",
            "Yes                    38.435326\n",
            "No internet service    21.666903\n",
            "Name: proportion, dtype: float64\n",
            "StreamingMovies\n",
            "No                     2785\n",
            "Yes                    2732\n",
            "No internet service    1526\n",
            "Name: count, dtype: int64\n",
            "['No', 'Yes', 'No internet service']\n",
            "Categories (3, object): ['No', 'No internet service', 'Yes']\n",
            "StreamingMovies\n",
            "No                     39.542808\n",
            "Yes                    38.790288\n",
            "No internet service    21.666903\n",
            "Name: proportion, dtype: float64\n",
            "Contract\n",
            "Month-to-month    3875\n",
            "Two year          1695\n",
            "One year          1473\n",
            "Name: count, dtype: int64\n",
            "['Month-to-month', 'One year', 'Two year']\n",
            "Categories (3, object): ['Month-to-month', 'One year', 'Two year']\n",
            "Contract\n",
            "Month-to-month    55.019168\n",
            "Two year          24.066449\n",
            "One year          20.914383\n",
            "Name: proportion, dtype: float64\n",
            "PaperlessBilling\n",
            "Yes    4171\n",
            "No     2872\n",
            "Name: count, dtype: int64\n",
            "['Yes', 'No']\n",
            "Categories (2, object): ['No', 'Yes']\n",
            "PaperlessBilling\n",
            "Yes    59.221922\n",
            "No     40.778078\n",
            "Name: proportion, dtype: float64\n",
            "PaymentMethod\n",
            "Electronic check             2365\n",
            "Mailed check                 1612\n",
            "Bank transfer (automatic)    1544\n",
            "Credit card (automatic)      1522\n",
            "Name: count, dtype: int64\n",
            "['Electronic check', 'Mailed check', 'Bank transfer (automatic)', 'Credit card (automatic)']\n",
            "Categories (4, object): ['Bank transfer (automatic)', 'Credit card (automatic)', 'Electronic check', 'Mailed check']\n",
            "PaymentMethod\n",
            "Electronic check             33.579441\n",
            "Mailed check                 22.887974\n",
            "Bank transfer (automatic)    21.922476\n",
            "Credit card (automatic)      21.610109\n",
            "Name: proportion, dtype: float64\n",
            "MonthlyCharges\n",
            "20.05     61\n",
            "19.85     45\n",
            "19.95     44\n",
            "19.90     44\n",
            "20.00     43\n",
            "          ..\n",
            "23.65      1\n",
            "114.70     1\n",
            "43.65      1\n",
            "87.80      1\n",
            "78.70      1\n",
            "Name: count, Length: 1585, dtype: int64\n",
            "[29.85 56.95 53.85 ... 63.1  44.2  78.7 ]\n",
            "MonthlyCharges\n",
            "20.05     0.866108\n",
            "19.85     0.638932\n",
            "19.95     0.624734\n",
            "19.90     0.624734\n",
            "20.00     0.610535\n",
            "            ...   \n",
            "23.65     0.014198\n",
            "114.70    0.014198\n",
            "43.65     0.014198\n",
            "87.80     0.014198\n",
            "78.70     0.014198\n",
            "Name: proportion, Length: 1585, dtype: float64\n",
            "TotalCharges\n",
            "          11\n",
            "20.2      11\n",
            "19.75      9\n",
            "20.05      8\n",
            "19.9       8\n",
            "          ..\n",
            "6849.4     1\n",
            "692.35     1\n",
            "130.15     1\n",
            "3211.9     1\n",
            "6844.5     1\n",
            "Name: count, Length: 6531, dtype: int64\n",
            "['29.85' '1889.5' '108.15' ... '346.45' '306.6' '6844.5']\n",
            "TotalCharges\n",
            "          0.156183\n",
            "20.2      0.156183\n",
            "19.75     0.127786\n",
            "20.05     0.113588\n",
            "19.9      0.113588\n",
            "            ...   \n",
            "6849.4    0.014198\n",
            "692.35    0.014198\n",
            "130.15    0.014198\n",
            "3211.9    0.014198\n",
            "6844.5    0.014198\n",
            "Name: proportion, Length: 6531, dtype: float64\n",
            "Churn\n",
            "No     5174\n",
            "Yes    1869\n",
            "Name: count, dtype: int64\n",
            "['No', 'Yes']\n",
            "Categories (2, object): ['No', 'Yes']\n",
            "Churn\n",
            "No     73.463013\n",
            "Yes    26.536987\n",
            "Name: proportion, dtype: float64\n"
          ]
        }
      ],
      "source": [
        "for column in raw_dataframe.columns:\n",
        "    print(raw_dataframe[column].value_counts())\n",
        "    print(raw_dataframe[column].unique())\n",
        "    print(raw_dataframe[column].value_counts(normalize=True) * 100)"
      ]
    },
    {
      "cell_type": "markdown",
      "id": "b038c775af12600c",
      "metadata": {
        "collapsed": false
      },
      "source": [
        "## Data Preprocessing"
      ]
    },
    {
      "cell_type": "markdown",
      "id": "8eb5040b8b4801bc",
      "metadata": {
        "collapsed": false
      },
      "source": [
        "### Fixing data dtypes for missing values"
      ]
    },
    {
      "cell_type": "code",
      "execution_count": 198,
      "id": "b023ddb122b1be97",
      "metadata": {
        "ExecuteTime": {
          "end_time": "2024-02-21T01:34:55.412840700Z",
          "start_time": "2024-02-21T01:34:55.350343Z"
        },
        "collapsed": false
      },
      "outputs": [],
      "source": [
        "dataframe: pd.DataFrame = raw_dataframe.drop(\n",
        "    columns=[\"customerID\"], axis=\"columns\"\n",
        ").copy()\n",
        "dataframe[\"TotalCharges\"] = pd.to_numeric(\n",
        "    dataframe[\"TotalCharges\"].replace(\"\" \"\", np.nan), errors=\"coerce\"\n",
        ")\n",
        "dataframe[\"TotalCharges\"] = dataframe[\"TotalCharges\"].fillna(0)"
      ]
    },
    {
      "cell_type": "markdown",
      "id": "b7cdc2b3c56333f3",
      "metadata": {
        "collapsed": false
      },
      "source": [
        "### Verification"
      ]
    },
    {
      "cell_type": "code",
      "execution_count": 199,
      "id": "e5a8398d006443d4",
      "metadata": {
        "ExecuteTime": {
          "end_time": "2024-02-21T01:34:55.414839900Z",
          "start_time": "2024-02-21T01:34:55.356841300Z"
        },
        "collapsed": false
      },
      "outputs": [
        {
          "data": {
            "text/html": "<div>\n<style scoped>\n    .dataframe tbody tr th:only-of-type {\n        vertical-align: middle;\n    }\n\n    .dataframe tbody tr th {\n        vertical-align: top;\n    }\n\n    .dataframe thead th {\n        text-align: right;\n    }\n</style>\n<table border=\"1\" class=\"dataframe\">\n  <thead>\n    <tr style=\"text-align: right;\">\n      <th></th>\n      <th>gender</th>\n      <th>SeniorCitizen</th>\n      <th>Partner</th>\n      <th>Dependents</th>\n      <th>tenure</th>\n      <th>PhoneService</th>\n      <th>MultipleLines</th>\n      <th>InternetService</th>\n      <th>OnlineSecurity</th>\n      <th>OnlineBackup</th>\n      <th>DeviceProtection</th>\n      <th>TechSupport</th>\n      <th>StreamingTV</th>\n      <th>StreamingMovies</th>\n      <th>Contract</th>\n      <th>PaperlessBilling</th>\n      <th>PaymentMethod</th>\n      <th>MonthlyCharges</th>\n      <th>TotalCharges</th>\n      <th>Churn</th>\n    </tr>\n  </thead>\n  <tbody>\n    <tr>\n      <th>0</th>\n      <td>Female</td>\n      <td>False</td>\n      <td>Yes</td>\n      <td>No</td>\n      <td>1</td>\n      <td>No</td>\n      <td>No phone service</td>\n      <td>DSL</td>\n      <td>No</td>\n      <td>Yes</td>\n      <td>No</td>\n      <td>No</td>\n      <td>No</td>\n      <td>No</td>\n      <td>Month-to-month</td>\n      <td>Yes</td>\n      <td>Electronic check</td>\n      <td>29.85</td>\n      <td>29.85</td>\n      <td>No</td>\n    </tr>\n    <tr>\n      <th>1</th>\n      <td>Male</td>\n      <td>False</td>\n      <td>No</td>\n      <td>No</td>\n      <td>34</td>\n      <td>Yes</td>\n      <td>No</td>\n      <td>DSL</td>\n      <td>Yes</td>\n      <td>No</td>\n      <td>Yes</td>\n      <td>No</td>\n      <td>No</td>\n      <td>No</td>\n      <td>One year</td>\n      <td>No</td>\n      <td>Mailed check</td>\n      <td>56.95</td>\n      <td>1889.50</td>\n      <td>No</td>\n    </tr>\n    <tr>\n      <th>2</th>\n      <td>Male</td>\n      <td>False</td>\n      <td>No</td>\n      <td>No</td>\n      <td>2</td>\n      <td>Yes</td>\n      <td>No</td>\n      <td>DSL</td>\n      <td>Yes</td>\n      <td>Yes</td>\n      <td>No</td>\n      <td>No</td>\n      <td>No</td>\n      <td>No</td>\n      <td>Month-to-month</td>\n      <td>Yes</td>\n      <td>Mailed check</td>\n      <td>53.85</td>\n      <td>108.15</td>\n      <td>Yes</td>\n    </tr>\n    <tr>\n      <th>3</th>\n      <td>Male</td>\n      <td>False</td>\n      <td>No</td>\n      <td>No</td>\n      <td>45</td>\n      <td>No</td>\n      <td>No phone service</td>\n      <td>DSL</td>\n      <td>Yes</td>\n      <td>No</td>\n      <td>Yes</td>\n      <td>Yes</td>\n      <td>No</td>\n      <td>No</td>\n      <td>One year</td>\n      <td>No</td>\n      <td>Bank transfer (automatic)</td>\n      <td>42.30</td>\n      <td>1840.75</td>\n      <td>No</td>\n    </tr>\n    <tr>\n      <th>4</th>\n      <td>Female</td>\n      <td>False</td>\n      <td>No</td>\n      <td>No</td>\n      <td>2</td>\n      <td>Yes</td>\n      <td>No</td>\n      <td>Fiber optic</td>\n      <td>No</td>\n      <td>No</td>\n      <td>No</td>\n      <td>No</td>\n      <td>No</td>\n      <td>No</td>\n      <td>Month-to-month</td>\n      <td>Yes</td>\n      <td>Electronic check</td>\n      <td>70.70</td>\n      <td>151.65</td>\n      <td>Yes</td>\n    </tr>\n    <tr>\n      <th>...</th>\n      <td>...</td>\n      <td>...</td>\n      <td>...</td>\n      <td>...</td>\n      <td>...</td>\n      <td>...</td>\n      <td>...</td>\n      <td>...</td>\n      <td>...</td>\n      <td>...</td>\n      <td>...</td>\n      <td>...</td>\n      <td>...</td>\n      <td>...</td>\n      <td>...</td>\n      <td>...</td>\n      <td>...</td>\n      <td>...</td>\n      <td>...</td>\n      <td>...</td>\n    </tr>\n    <tr>\n      <th>7038</th>\n      <td>Male</td>\n      <td>False</td>\n      <td>Yes</td>\n      <td>Yes</td>\n      <td>24</td>\n      <td>Yes</td>\n      <td>Yes</td>\n      <td>DSL</td>\n      <td>Yes</td>\n      <td>No</td>\n      <td>Yes</td>\n      <td>Yes</td>\n      <td>Yes</td>\n      <td>Yes</td>\n      <td>One year</td>\n      <td>Yes</td>\n      <td>Mailed check</td>\n      <td>84.80</td>\n      <td>1990.50</td>\n      <td>No</td>\n    </tr>\n    <tr>\n      <th>7039</th>\n      <td>Female</td>\n      <td>False</td>\n      <td>Yes</td>\n      <td>Yes</td>\n      <td>72</td>\n      <td>Yes</td>\n      <td>Yes</td>\n      <td>Fiber optic</td>\n      <td>No</td>\n      <td>Yes</td>\n      <td>Yes</td>\n      <td>No</td>\n      <td>Yes</td>\n      <td>Yes</td>\n      <td>One year</td>\n      <td>Yes</td>\n      <td>Credit card (automatic)</td>\n      <td>103.20</td>\n      <td>7362.90</td>\n      <td>No</td>\n    </tr>\n    <tr>\n      <th>7040</th>\n      <td>Female</td>\n      <td>False</td>\n      <td>Yes</td>\n      <td>Yes</td>\n      <td>11</td>\n      <td>No</td>\n      <td>No phone service</td>\n      <td>DSL</td>\n      <td>Yes</td>\n      <td>No</td>\n      <td>No</td>\n      <td>No</td>\n      <td>No</td>\n      <td>No</td>\n      <td>Month-to-month</td>\n      <td>Yes</td>\n      <td>Electronic check</td>\n      <td>29.60</td>\n      <td>346.45</td>\n      <td>No</td>\n    </tr>\n    <tr>\n      <th>7041</th>\n      <td>Male</td>\n      <td>True</td>\n      <td>Yes</td>\n      <td>No</td>\n      <td>4</td>\n      <td>Yes</td>\n      <td>Yes</td>\n      <td>Fiber optic</td>\n      <td>No</td>\n      <td>No</td>\n      <td>No</td>\n      <td>No</td>\n      <td>No</td>\n      <td>No</td>\n      <td>Month-to-month</td>\n      <td>Yes</td>\n      <td>Mailed check</td>\n      <td>74.40</td>\n      <td>306.60</td>\n      <td>Yes</td>\n    </tr>\n    <tr>\n      <th>7042</th>\n      <td>Male</td>\n      <td>False</td>\n      <td>No</td>\n      <td>No</td>\n      <td>66</td>\n      <td>Yes</td>\n      <td>No</td>\n      <td>Fiber optic</td>\n      <td>Yes</td>\n      <td>No</td>\n      <td>Yes</td>\n      <td>Yes</td>\n      <td>Yes</td>\n      <td>Yes</td>\n      <td>Two year</td>\n      <td>Yes</td>\n      <td>Bank transfer (automatic)</td>\n      <td>105.65</td>\n      <td>6844.50</td>\n      <td>No</td>\n    </tr>\n  </tbody>\n</table>\n<p>7043 rows \u00d7 20 columns</p>\n</div>",
            "text/plain": "      gender  SeniorCitizen Partner Dependents  tenure PhoneService     MultipleLines InternetService OnlineSecurity OnlineBackup DeviceProtection TechSupport StreamingTV StreamingMovies        Contract PaperlessBilling              PaymentMethod  MonthlyCharges  TotalCharges Churn\n0     Female          False     Yes         No       1           No  No phone service             DSL             No          Yes               No          No          No              No  Month-to-month              Yes           Electronic check           29.85         29.85    No\n1       Male          False      No         No      34          Yes                No             DSL            Yes           No              Yes          No          No              No        One year               No               Mailed check           56.95       1889.50    No\n2       Male          False      No         No       2          Yes                No             DSL            Yes          Yes               No          No          No              No  Month-to-month              Yes               Mailed check           53.85        108.15   Yes\n3       Male          False      No         No      45           No  No phone service             DSL            Yes           No              Yes         Yes          No              No        One year               No  Bank transfer (automatic)           42.30       1840.75    No\n4     Female          False      No         No       2          Yes                No     Fiber optic             No           No               No          No          No              No  Month-to-month              Yes           Electronic check           70.70        151.65   Yes\n...      ...            ...     ...        ...     ...          ...               ...             ...            ...          ...              ...         ...         ...             ...             ...              ...                        ...             ...           ...   ...\n7038    Male          False     Yes        Yes      24          Yes               Yes             DSL            Yes           No              Yes         Yes         Yes             Yes        One year              Yes               Mailed check           84.80       1990.50    No\n7039  Female          False     Yes        Yes      72          Yes               Yes     Fiber optic             No          Yes              Yes          No         Yes             Yes        One year              Yes    Credit card (automatic)          103.20       7362.90    No\n7040  Female          False     Yes        Yes      11           No  No phone service             DSL            Yes           No               No          No          No              No  Month-to-month              Yes           Electronic check           29.60        346.45    No\n7041    Male           True     Yes         No       4          Yes               Yes     Fiber optic             No           No               No          No          No              No  Month-to-month              Yes               Mailed check           74.40        306.60   Yes\n7042    Male          False      No         No      66          Yes                No     Fiber optic            Yes           No              Yes         Yes         Yes             Yes        Two year              Yes  Bank transfer (automatic)          105.65       6844.50    No\n\n[7043 rows x 20 columns]"
          },
          "execution_count": 199,
          "metadata": {},
          "output_type": "execute_result"
        }
      ],
      "source": [
        "dataframe"
      ]
    },
    {
      "cell_type": "code",
      "execution_count": 200,
      "id": "4ce28159f5bce9ba",
      "metadata": {
        "ExecuteTime": {
          "end_time": "2024-02-21T01:34:55.452840600Z",
          "start_time": "2024-02-21T01:34:55.370342100Z"
        },
        "collapsed": false
      },
      "outputs": [
        {
          "data": {
            "text/plain": "gender              category\nSeniorCitizen           bool\nPartner             category\nDependents          category\ntenure                 int32\nPhoneService        category\nMultipleLines       category\nInternetService     category\nOnlineSecurity      category\nOnlineBackup        category\nDeviceProtection    category\nTechSupport         category\nStreamingTV         category\nStreamingMovies     category\nContract            category\nPaperlessBilling    category\nPaymentMethod       category\nMonthlyCharges       float64\nTotalCharges         float64\nChurn               category\ndtype: object"
          },
          "execution_count": 200,
          "metadata": {},
          "output_type": "execute_result"
        }
      ],
      "source": [
        "dataframe.dtypes"
      ]
    },
    {
      "cell_type": "code",
      "execution_count": 201,
      "id": "844cf89b1c9555ee",
      "metadata": {
        "ExecuteTime": {
          "end_time": "2024-02-21T01:34:55.453840500Z",
          "start_time": "2024-02-21T01:34:55.375841800Z"
        },
        "collapsed": false
      },
      "outputs": [
        {
          "name": "stdout",
          "output_type": "stream",
          "text": [
            "<class 'pandas.core.frame.DataFrame'>\n",
            "RangeIndex: 7043 entries, 0 to 7042\n",
            "Data columns (total 20 columns):\n",
            " #   Column            Non-Null Count  Dtype   \n",
            "---  ------            --------------  -----   \n",
            " 0   gender            7043 non-null   category\n",
            " 1   SeniorCitizen     7043 non-null   bool    \n",
            " 2   Partner           7043 non-null   category\n",
            " 3   Dependents        7043 non-null   category\n",
            " 4   tenure            7043 non-null   int32   \n",
            " 5   PhoneService      7043 non-null   category\n",
            " 6   MultipleLines     7043 non-null   category\n",
            " 7   InternetService   7043 non-null   category\n",
            " 8   OnlineSecurity    7043 non-null   category\n",
            " 9   OnlineBackup      7043 non-null   category\n",
            " 10  DeviceProtection  7043 non-null   category\n",
            " 11  TechSupport       7043 non-null   category\n",
            " 12  StreamingTV       7043 non-null   category\n",
            " 13  StreamingMovies   7043 non-null   category\n",
            " 14  Contract          7043 non-null   category\n",
            " 15  PaperlessBilling  7043 non-null   category\n",
            " 16  PaymentMethod     7043 non-null   category\n",
            " 17  MonthlyCharges    7043 non-null   float64 \n",
            " 18  TotalCharges      7043 non-null   float64 \n",
            " 19  Churn             7043 non-null   category\n",
            "dtypes: bool(1), category(16), float64(2), int32(1)\n",
            "memory usage: 259.1 KB\n"
          ]
        }
      ],
      "source": [
        "dataframe.info(memory_usage=\"deep\")"
      ]
    },
    {
      "cell_type": "markdown",
      "id": "7f33fbf7e111d5c7",
      "metadata": {
        "collapsed": false
      },
      "source": [
        "### Memory usage\n",
        "*From 1.1MB to 259.1 KB (76.45% improvement)*"
      ]
    },
    {
      "cell_type": "markdown",
      "id": "7b13bcca5db07baa",
      "metadata": {
        "collapsed": false
      },
      "source": [
        "### Binary columns"
      ]
    },
    {
      "cell_type": "code",
      "execution_count": 202,
      "id": "e2761b0801b98453",
      "metadata": {
        "ExecuteTime": {
          "end_time": "2024-02-21T01:34:55.454340400Z",
          "start_time": "2024-02-21T01:34:55.383842800Z"
        },
        "collapsed": false
      },
      "outputs": [],
      "source": [
        "# Example categorical columns with two unique values\n",
        "binary_categoricals: list[str] = [\n",
        "    \"Partner\",\n",
        "    \"Dependents\",\n",
        "    \"PhoneService\",\n",
        "    \"PaperlessBilling\",\n",
        "]\n",
        "\n",
        "for col in binary_categoricals:\n",
        "    # Map the categories to boolean\n",
        "    dataframe[col] = (\n",
        "        dataframe[col].map({\"Yes\": True, \"No\": False}).astype(\"bool\")\n",
        "    )\n",
        "# dataframe['gender'] = (\n",
        "#     dataframe['gender'].map({\"Male\": True, \"Female\": False}).astype(\"bool\")\n",
        "# )\n",
        "# gender: Male is True, Female is False"
      ]
    },
    {
      "cell_type": "code",
      "execution_count": 203,
      "id": "4a5eeed4387297b7",
      "metadata": {
        "ExecuteTime": {
          "end_time": "2024-02-21T01:34:55.454842100Z",
          "start_time": "2024-02-21T01:34:55.389842400Z"
        },
        "collapsed": false
      },
      "outputs": [
        {
          "name": "stdout",
          "output_type": "stream",
          "text": [
            "<class 'pandas.core.frame.DataFrame'>\n",
            "RangeIndex: 7043 entries, 0 to 7042\n",
            "Data columns (total 20 columns):\n",
            " #   Column            Non-Null Count  Dtype   \n",
            "---  ------            --------------  -----   \n",
            " 0   gender            7043 non-null   category\n",
            " 1   SeniorCitizen     7043 non-null   bool    \n",
            " 2   Partner           7043 non-null   bool    \n",
            " 3   Dependents        7043 non-null   bool    \n",
            " 4   tenure            7043 non-null   int32   \n",
            " 5   PhoneService      7043 non-null   bool    \n",
            " 6   MultipleLines     7043 non-null   category\n",
            " 7   InternetService   7043 non-null   category\n",
            " 8   OnlineSecurity    7043 non-null   category\n",
            " 9   OnlineBackup      7043 non-null   category\n",
            " 10  DeviceProtection  7043 non-null   category\n",
            " 11  TechSupport       7043 non-null   category\n",
            " 12  StreamingTV       7043 non-null   category\n",
            " 13  StreamingMovies   7043 non-null   category\n",
            " 14  Contract          7043 non-null   category\n",
            " 15  PaperlessBilling  7043 non-null   bool    \n",
            " 16  PaymentMethod     7043 non-null   category\n",
            " 17  MonthlyCharges    7043 non-null   float64 \n",
            " 18  TotalCharges      7043 non-null   float64 \n",
            " 19  Churn             7043 non-null   category\n",
            "dtypes: bool(5), category(12), float64(2), int32(1)\n",
            "memory usage: 258.2 KB\n"
          ]
        }
      ],
      "source": [
        "dataframe.info(memory_usage=\"deep\")"
      ]
    },
    {
      "cell_type": "markdown",
      "id": "5b7809098d16ef8c",
      "metadata": {
        "collapsed": false
      },
      "source": [
        "### Memory usage\n",
        "*From 259.1 KB to 258.2 KB (0.35% improvement)*"
      ]
    },
    {
      "cell_type": "markdown",
      "id": "262752e3075f0c87",
      "metadata": {
        "collapsed": false
      },
      "source": [
        "### Saving processed dataframe"
      ]
    },
    {
      "cell_type": "code",
      "execution_count": 204,
      "id": "18dcefae10e9bd4f",
      "metadata": {
        "ExecuteTime": {
          "end_time": "2024-02-21T01:34:55.493841300Z",
          "start_time": "2024-02-21T01:34:55.396841200Z"
        },
        "collapsed": false
      },
      "outputs": [],
      "source": [
        "dataframe.to_csv(\"../data/processed/data.csv\", index=False)"
      ]
    },
    {
      "cell_type": "markdown",
      "id": "770d7e60fbe80198",
      "metadata": {
        "collapsed": false
      },
      "source": [
        "## Tasks Overview\n",
        "\n",
        "### EDA Multivariado\n",
        "- [ ] Test de multicolinealidad\n",
        "\n",
        "### EDA Bivariado \n",
        "- [ ] An\u00e1lisis por variable\n",
        "  - [ ] gender           \n",
        "  - [ ] Dependents       \n",
        "  - [ ] MultipleLines    \n",
        "  - [ ] OnlineBackup     \n",
        "  - [ ] StreamingTV      \n",
        "  - [ ] PaperlessBilling \n",
        "  - [ ] TotalCharges     \n",
        "- [ ] Visualizaciones\n",
        "  - [ ] Graficos de dispersion de todos contra todos (ggally, corrplot)\n",
        "  - [ ] Graficos para 3 variables: MonthlyCharges vs Gender vs Churn\n",
        "\n",
        "### Tareas Adicionales\n",
        "- [ ] Test de multicolinealidad (Revisi\u00f3n adicional si es necesario)"
      ]
    }
  ],
  "metadata": {
    "kernelspec": {
      "display_name": "Python 3",
      "language": "python",
      "name": "python3"
    },
    "language_info": {
      "codemirror_mode": {
        "name": "ipython",
        "version": 2
      },
      "file_extension": ".py",
      "mimetype": "text/x-python",
      "name": "python",
      "nbconvert_exporter": "python",
      "pygments_lexer": "ipython2",
      "version": "2.7.6"
    }
  },
  "nbformat": 4,
  "nbformat_minor": 5
}
