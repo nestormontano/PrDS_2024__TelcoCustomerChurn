{
  "cells": [
    {
      "cell_type": "markdown",
      "id": "63661ea578493107",
      "metadata": {
        "collapsed": false
      },
      "source": [
        "# Machine Learning"
      ]
    },
    {
      "cell_type": "markdown",
      "id": "902a9369765e96ab",
      "metadata": {
        "collapsed": false
      },
      "source": [
        "## Libraries"
      ]
    },
    {
      "cell_type": "code",
      "execution_count": 1,
      "id": "c54b5dc4d1580434",
      "metadata": {
        "ExecuteTime": {
          "end_time": "2024-03-01T22:43:47.583355Z",
          "start_time": "2024-03-01T22:43:47.282355Z"
        },
        "collapsed": false
      },
      "outputs": [],
      "source": [
        "import os\n",
        "from typing import Any\n",
        "\n",
        "import numpy as np\n",
        "import pandas as pd\n",
        "import seaborn as sns\n",
        "from imblearn.over_sampling import SMOTE\n",
        "from pygam import LinearGAM, s\n",
        "from sklearn.ensemble import (\n",
        "    AdaBoostClassifier,\n",
        "    GradientBoostingClassifier,\n",
        "    RandomForestClassifier,\n",
        ")\n",
        "from sklearn.metrics import (\n",
        "    accuracy_score,\n",
        "    confusion_matrix,\n",
        "    f1_score,\n",
        "    mean_squared_error,\n",
        "    precision_score,\n",
        "    recall_score,\n",
        "    roc_auc_score,\n",
        ")\n",
        "from sklearn.model_selection import GridSearchCV, train_test_split\n",
        "from sklearn.pipeline import Pipeline\n",
        "from sklearn.preprocessing import StandardScaler, label_binarize\n",
        "from sklearn.svm import SVC\n",
        "from sklearn.tree import DecisionTreeClassifier\n",
        "\n",
        "pd.set_option(\"display.max_columns\", 30)\n",
        "pd.set_option(\"display.width\", 1440)\n",
        "os.environ[\"LOKY_MAX_CPU_COUNT\"] = \"8\""
      ]
    },
    {
      "cell_type": "markdown",
      "id": "2b0b073dfdfb059d",
      "metadata": {
        "collapsed": false
      },
      "source": [
        "## Load processed dataframe"
      ]
    },
    {
      "cell_type": "code",
      "execution_count": 2,
      "id": "bb2039ccc31f7fa3",
      "metadata": {
        "ExecuteTime": {
          "end_time": "2024-03-01T22:43:47.623357Z",
          "start_time": "2024-03-01T22:43:47.584855Z"
        },
        "collapsed": false
      },
      "outputs": [
        {
          "data": {
            "text/html": "<div>\n<style scoped>\n    .dataframe tbody tr th:only-of-type {\n        vertical-align: middle;\n    }\n\n    .dataframe tbody tr th {\n        vertical-align: top;\n    }\n\n    .dataframe thead th {\n        text-align: right;\n    }\n</style>\n<table border=\"1\" class=\"dataframe\">\n  <thead>\n    <tr style=\"text-align: right;\">\n      <th></th>\n      <th>gender</th>\n      <th>SeniorCitizen</th>\n      <th>Partner</th>\n      <th>Dependents</th>\n      <th>tenure</th>\n      <th>PhoneService</th>\n      <th>MultipleLines</th>\n      <th>InternetService</th>\n      <th>OnlineSecurity</th>\n      <th>OnlineBackup</th>\n      <th>DeviceProtection</th>\n      <th>TechSupport</th>\n      <th>StreamingTV</th>\n      <th>StreamingMovies</th>\n      <th>Contract</th>\n      <th>PaperlessBilling</th>\n      <th>PaymentMethod</th>\n      <th>MonthlyCharges</th>\n      <th>TotalCharges</th>\n      <th>Churn</th>\n    </tr>\n  </thead>\n  <tbody>\n    <tr>\n      <th>0</th>\n      <td>Female</td>\n      <td>False</td>\n      <td>True</td>\n      <td>False</td>\n      <td>1</td>\n      <td>False</td>\n      <td>No phone service</td>\n      <td>DSL</td>\n      <td>No</td>\n      <td>Yes</td>\n      <td>No</td>\n      <td>No</td>\n      <td>No</td>\n      <td>No</td>\n      <td>Month-to-month</td>\n      <td>True</td>\n      <td>Electronic check</td>\n      <td>29.85</td>\n      <td>29.85</td>\n      <td>No</td>\n    </tr>\n    <tr>\n      <th>1</th>\n      <td>Male</td>\n      <td>False</td>\n      <td>False</td>\n      <td>False</td>\n      <td>34</td>\n      <td>True</td>\n      <td>No</td>\n      <td>DSL</td>\n      <td>Yes</td>\n      <td>No</td>\n      <td>Yes</td>\n      <td>No</td>\n      <td>No</td>\n      <td>No</td>\n      <td>One year</td>\n      <td>False</td>\n      <td>Mailed check</td>\n      <td>56.95</td>\n      <td>1889.50</td>\n      <td>No</td>\n    </tr>\n    <tr>\n      <th>2</th>\n      <td>Male</td>\n      <td>False</td>\n      <td>False</td>\n      <td>False</td>\n      <td>2</td>\n      <td>True</td>\n      <td>No</td>\n      <td>DSL</td>\n      <td>Yes</td>\n      <td>Yes</td>\n      <td>No</td>\n      <td>No</td>\n      <td>No</td>\n      <td>No</td>\n      <td>Month-to-month</td>\n      <td>True</td>\n      <td>Mailed check</td>\n      <td>53.85</td>\n      <td>108.15</td>\n      <td>Yes</td>\n    </tr>\n    <tr>\n      <th>3</th>\n      <td>Male</td>\n      <td>False</td>\n      <td>False</td>\n      <td>False</td>\n      <td>45</td>\n      <td>False</td>\n      <td>No phone service</td>\n      <td>DSL</td>\n      <td>Yes</td>\n      <td>No</td>\n      <td>Yes</td>\n      <td>Yes</td>\n      <td>No</td>\n      <td>No</td>\n      <td>One year</td>\n      <td>False</td>\n      <td>Bank transfer (automatic)</td>\n      <td>42.30</td>\n      <td>1840.75</td>\n      <td>No</td>\n    </tr>\n    <tr>\n      <th>4</th>\n      <td>Female</td>\n      <td>False</td>\n      <td>False</td>\n      <td>False</td>\n      <td>2</td>\n      <td>True</td>\n      <td>No</td>\n      <td>Fiber optic</td>\n      <td>No</td>\n      <td>No</td>\n      <td>No</td>\n      <td>No</td>\n      <td>No</td>\n      <td>No</td>\n      <td>Month-to-month</td>\n      <td>True</td>\n      <td>Electronic check</td>\n      <td>70.70</td>\n      <td>151.65</td>\n      <td>Yes</td>\n    </tr>\n    <tr>\n      <th>...</th>\n      <td>...</td>\n      <td>...</td>\n      <td>...</td>\n      <td>...</td>\n      <td>...</td>\n      <td>...</td>\n      <td>...</td>\n      <td>...</td>\n      <td>...</td>\n      <td>...</td>\n      <td>...</td>\n      <td>...</td>\n      <td>...</td>\n      <td>...</td>\n      <td>...</td>\n      <td>...</td>\n      <td>...</td>\n      <td>...</td>\n      <td>...</td>\n      <td>...</td>\n    </tr>\n    <tr>\n      <th>7038</th>\n      <td>Male</td>\n      <td>False</td>\n      <td>True</td>\n      <td>True</td>\n      <td>24</td>\n      <td>True</td>\n      <td>Yes</td>\n      <td>DSL</td>\n      <td>Yes</td>\n      <td>No</td>\n      <td>Yes</td>\n      <td>Yes</td>\n      <td>Yes</td>\n      <td>Yes</td>\n      <td>One year</td>\n      <td>True</td>\n      <td>Mailed check</td>\n      <td>84.80</td>\n      <td>1990.50</td>\n      <td>No</td>\n    </tr>\n    <tr>\n      <th>7039</th>\n      <td>Female</td>\n      <td>False</td>\n      <td>True</td>\n      <td>True</td>\n      <td>72</td>\n      <td>True</td>\n      <td>Yes</td>\n      <td>Fiber optic</td>\n      <td>No</td>\n      <td>Yes</td>\n      <td>Yes</td>\n      <td>No</td>\n      <td>Yes</td>\n      <td>Yes</td>\n      <td>One year</td>\n      <td>True</td>\n      <td>Credit card (automatic)</td>\n      <td>103.20</td>\n      <td>7362.90</td>\n      <td>No</td>\n    </tr>\n    <tr>\n      <th>7040</th>\n      <td>Female</td>\n      <td>False</td>\n      <td>True</td>\n      <td>True</td>\n      <td>11</td>\n      <td>False</td>\n      <td>No phone service</td>\n      <td>DSL</td>\n      <td>Yes</td>\n      <td>No</td>\n      <td>No</td>\n      <td>No</td>\n      <td>No</td>\n      <td>No</td>\n      <td>Month-to-month</td>\n      <td>True</td>\n      <td>Electronic check</td>\n      <td>29.60</td>\n      <td>346.45</td>\n      <td>No</td>\n    </tr>\n    <tr>\n      <th>7041</th>\n      <td>Male</td>\n      <td>True</td>\n      <td>True</td>\n      <td>False</td>\n      <td>4</td>\n      <td>True</td>\n      <td>Yes</td>\n      <td>Fiber optic</td>\n      <td>No</td>\n      <td>No</td>\n      <td>No</td>\n      <td>No</td>\n      <td>No</td>\n      <td>No</td>\n      <td>Month-to-month</td>\n      <td>True</td>\n      <td>Mailed check</td>\n      <td>74.40</td>\n      <td>306.60</td>\n      <td>Yes</td>\n    </tr>\n    <tr>\n      <th>7042</th>\n      <td>Male</td>\n      <td>False</td>\n      <td>False</td>\n      <td>False</td>\n      <td>66</td>\n      <td>True</td>\n      <td>No</td>\n      <td>Fiber optic</td>\n      <td>Yes</td>\n      <td>No</td>\n      <td>Yes</td>\n      <td>Yes</td>\n      <td>Yes</td>\n      <td>Yes</td>\n      <td>Two year</td>\n      <td>True</td>\n      <td>Bank transfer (automatic)</td>\n      <td>105.65</td>\n      <td>6844.50</td>\n      <td>No</td>\n    </tr>\n  </tbody>\n</table>\n<p>7043 rows \u00d7 20 columns</p>\n</div>",
            "text/plain": "      gender  SeniorCitizen  Partner  Dependents  tenure  PhoneService     MultipleLines InternetService OnlineSecurity OnlineBackup DeviceProtection TechSupport StreamingTV StreamingMovies        Contract  PaperlessBilling              PaymentMethod  MonthlyCharges  TotalCharges Churn\n0     Female          False     True       False       1         False  No phone service             DSL             No          Yes               No          No          No              No  Month-to-month              True           Electronic check           29.85         29.85    No\n1       Male          False    False       False      34          True                No             DSL            Yes           No              Yes          No          No              No        One year             False               Mailed check           56.95       1889.50    No\n2       Male          False    False       False       2          True                No             DSL            Yes          Yes               No          No          No              No  Month-to-month              True               Mailed check           53.85        108.15   Yes\n3       Male          False    False       False      45         False  No phone service             DSL            Yes           No              Yes         Yes          No              No        One year             False  Bank transfer (automatic)           42.30       1840.75    No\n4     Female          False    False       False       2          True                No     Fiber optic             No           No               No          No          No              No  Month-to-month              True           Electronic check           70.70        151.65   Yes\n...      ...            ...      ...         ...     ...           ...               ...             ...            ...          ...              ...         ...         ...             ...             ...               ...                        ...             ...           ...   ...\n7038    Male          False     True        True      24          True               Yes             DSL            Yes           No              Yes         Yes         Yes             Yes        One year              True               Mailed check           84.80       1990.50    No\n7039  Female          False     True        True      72          True               Yes     Fiber optic             No          Yes              Yes          No         Yes             Yes        One year              True    Credit card (automatic)          103.20       7362.90    No\n7040  Female          False     True        True      11         False  No phone service             DSL            Yes           No               No          No          No              No  Month-to-month              True           Electronic check           29.60        346.45    No\n7041    Male           True     True       False       4          True               Yes     Fiber optic             No           No               No          No          No              No  Month-to-month              True               Mailed check           74.40        306.60   Yes\n7042    Male          False    False       False      66          True                No     Fiber optic            Yes           No              Yes         Yes         Yes             Yes        Two year              True  Bank transfer (automatic)          105.65       6844.50    No\n\n[7043 rows x 20 columns]"
          },
          "execution_count": 2,
          "metadata": {},
          "output_type": "execute_result"
        }
      ],
      "source": [
        "dataframe: pd.DataFrame = pd.read_csv(\"../data/processed/data.csv\")\n",
        "dataframe"
      ]
    },
    {
      "cell_type": "code",
      "execution_count": 3,
      "id": "a70e32ac83efb1af",
      "metadata": {
        "ExecuteTime": {
          "end_time": "2024-03-01T22:43:47.667855Z",
          "start_time": "2024-03-01T22:43:47.624855Z"
        },
        "collapsed": false
      },
      "outputs": [
        {
          "data": {
            "text/html": "<div>\n<style scoped>\n    .dataframe tbody tr th:only-of-type {\n        vertical-align: middle;\n    }\n\n    .dataframe tbody tr th {\n        vertical-align: top;\n    }\n\n    .dataframe thead th {\n        text-align: right;\n    }\n</style>\n<table border=\"1\" class=\"dataframe\">\n  <thead>\n    <tr style=\"text-align: right;\">\n      <th></th>\n      <th>tenure</th>\n      <th>MonthlyCharges</th>\n      <th>TotalCharges</th>\n      <th>Churn</th>\n      <th>gender_Female</th>\n      <th>gender_Male</th>\n      <th>SeniorCitizen_No</th>\n      <th>SeniorCitizen_Yes</th>\n      <th>Partner_No</th>\n      <th>Partner_Yes</th>\n      <th>Dependents_No</th>\n      <th>Dependents_Yes</th>\n      <th>PhoneService_No</th>\n      <th>PhoneService_Yes</th>\n      <th>MultipleLines_No</th>\n      <th>...</th>\n      <th>StreamingTV_No</th>\n      <th>StreamingTV_No internet service</th>\n      <th>StreamingTV_Yes</th>\n      <th>StreamingMovies_No</th>\n      <th>StreamingMovies_No internet service</th>\n      <th>StreamingMovies_Yes</th>\n      <th>Contract_Month-to-month</th>\n      <th>Contract_One year</th>\n      <th>Contract_Two year</th>\n      <th>PaperlessBilling_No</th>\n      <th>PaperlessBilling_Yes</th>\n      <th>PaymentMethod_Bank transfer (automatic)</th>\n      <th>PaymentMethod_Credit card (automatic)</th>\n      <th>PaymentMethod_Electronic check</th>\n      <th>PaymentMethod_Mailed check</th>\n    </tr>\n  </thead>\n  <tbody>\n    <tr>\n      <th>0</th>\n      <td>1</td>\n      <td>29.85</td>\n      <td>29.85</td>\n      <td>0</td>\n      <td>1</td>\n      <td>0</td>\n      <td>1</td>\n      <td>0</td>\n      <td>0</td>\n      <td>1</td>\n      <td>1</td>\n      <td>0</td>\n      <td>1</td>\n      <td>0</td>\n      <td>0</td>\n      <td>...</td>\n      <td>1</td>\n      <td>0</td>\n      <td>0</td>\n      <td>1</td>\n      <td>0</td>\n      <td>0</td>\n      <td>1</td>\n      <td>0</td>\n      <td>0</td>\n      <td>0</td>\n      <td>1</td>\n      <td>0</td>\n      <td>0</td>\n      <td>1</td>\n      <td>0</td>\n    </tr>\n    <tr>\n      <th>1</th>\n      <td>34</td>\n      <td>56.95</td>\n      <td>1889.50</td>\n      <td>0</td>\n      <td>0</td>\n      <td>1</td>\n      <td>1</td>\n      <td>0</td>\n      <td>1</td>\n      <td>0</td>\n      <td>1</td>\n      <td>0</td>\n      <td>0</td>\n      <td>1</td>\n      <td>1</td>\n      <td>...</td>\n      <td>1</td>\n      <td>0</td>\n      <td>0</td>\n      <td>1</td>\n      <td>0</td>\n      <td>0</td>\n      <td>0</td>\n      <td>1</td>\n      <td>0</td>\n      <td>1</td>\n      <td>0</td>\n      <td>0</td>\n      <td>0</td>\n      <td>0</td>\n      <td>1</td>\n    </tr>\n    <tr>\n      <th>2</th>\n      <td>2</td>\n      <td>53.85</td>\n      <td>108.15</td>\n      <td>1</td>\n      <td>0</td>\n      <td>1</td>\n      <td>1</td>\n      <td>0</td>\n      <td>1</td>\n      <td>0</td>\n      <td>1</td>\n      <td>0</td>\n      <td>0</td>\n      <td>1</td>\n      <td>1</td>\n      <td>...</td>\n      <td>1</td>\n      <td>0</td>\n      <td>0</td>\n      <td>1</td>\n      <td>0</td>\n      <td>0</td>\n      <td>1</td>\n      <td>0</td>\n      <td>0</td>\n      <td>0</td>\n      <td>1</td>\n      <td>0</td>\n      <td>0</td>\n      <td>0</td>\n      <td>1</td>\n    </tr>\n    <tr>\n      <th>3</th>\n      <td>45</td>\n      <td>42.30</td>\n      <td>1840.75</td>\n      <td>0</td>\n      <td>0</td>\n      <td>1</td>\n      <td>1</td>\n      <td>0</td>\n      <td>1</td>\n      <td>0</td>\n      <td>1</td>\n      <td>0</td>\n      <td>1</td>\n      <td>0</td>\n      <td>0</td>\n      <td>...</td>\n      <td>1</td>\n      <td>0</td>\n      <td>0</td>\n      <td>1</td>\n      <td>0</td>\n      <td>0</td>\n      <td>0</td>\n      <td>1</td>\n      <td>0</td>\n      <td>1</td>\n      <td>0</td>\n      <td>1</td>\n      <td>0</td>\n      <td>0</td>\n      <td>0</td>\n    </tr>\n    <tr>\n      <th>4</th>\n      <td>2</td>\n      <td>70.70</td>\n      <td>151.65</td>\n      <td>1</td>\n      <td>1</td>\n      <td>0</td>\n      <td>1</td>\n      <td>0</td>\n      <td>1</td>\n      <td>0</td>\n      <td>1</td>\n      <td>0</td>\n      <td>0</td>\n      <td>1</td>\n      <td>1</td>\n      <td>...</td>\n      <td>1</td>\n      <td>0</td>\n      <td>0</td>\n      <td>1</td>\n      <td>0</td>\n      <td>0</td>\n      <td>1</td>\n      <td>0</td>\n      <td>0</td>\n      <td>0</td>\n      <td>1</td>\n      <td>0</td>\n      <td>0</td>\n      <td>1</td>\n      <td>0</td>\n    </tr>\n    <tr>\n      <th>...</th>\n      <td>...</td>\n      <td>...</td>\n      <td>...</td>\n      <td>...</td>\n      <td>...</td>\n      <td>...</td>\n      <td>...</td>\n      <td>...</td>\n      <td>...</td>\n      <td>...</td>\n      <td>...</td>\n      <td>...</td>\n      <td>...</td>\n      <td>...</td>\n      <td>...</td>\n      <td>...</td>\n      <td>...</td>\n      <td>...</td>\n      <td>...</td>\n      <td>...</td>\n      <td>...</td>\n      <td>...</td>\n      <td>...</td>\n      <td>...</td>\n      <td>...</td>\n      <td>...</td>\n      <td>...</td>\n      <td>...</td>\n      <td>...</td>\n      <td>...</td>\n      <td>...</td>\n    </tr>\n    <tr>\n      <th>7038</th>\n      <td>24</td>\n      <td>84.80</td>\n      <td>1990.50</td>\n      <td>0</td>\n      <td>0</td>\n      <td>1</td>\n      <td>1</td>\n      <td>0</td>\n      <td>0</td>\n      <td>1</td>\n      <td>0</td>\n      <td>1</td>\n      <td>0</td>\n      <td>1</td>\n      <td>0</td>\n      <td>...</td>\n      <td>0</td>\n      <td>0</td>\n      <td>1</td>\n      <td>0</td>\n      <td>0</td>\n      <td>1</td>\n      <td>0</td>\n      <td>1</td>\n      <td>0</td>\n      <td>0</td>\n      <td>1</td>\n      <td>0</td>\n      <td>0</td>\n      <td>0</td>\n      <td>1</td>\n    </tr>\n    <tr>\n      <th>7039</th>\n      <td>72</td>\n      <td>103.20</td>\n      <td>7362.90</td>\n      <td>0</td>\n      <td>1</td>\n      <td>0</td>\n      <td>1</td>\n      <td>0</td>\n      <td>0</td>\n      <td>1</td>\n      <td>0</td>\n      <td>1</td>\n      <td>0</td>\n      <td>1</td>\n      <td>0</td>\n      <td>...</td>\n      <td>0</td>\n      <td>0</td>\n      <td>1</td>\n      <td>0</td>\n      <td>0</td>\n      <td>1</td>\n      <td>0</td>\n      <td>1</td>\n      <td>0</td>\n      <td>0</td>\n      <td>1</td>\n      <td>0</td>\n      <td>1</td>\n      <td>0</td>\n      <td>0</td>\n    </tr>\n    <tr>\n      <th>7040</th>\n      <td>11</td>\n      <td>29.60</td>\n      <td>346.45</td>\n      <td>0</td>\n      <td>1</td>\n      <td>0</td>\n      <td>1</td>\n      <td>0</td>\n      <td>0</td>\n      <td>1</td>\n      <td>0</td>\n      <td>1</td>\n      <td>1</td>\n      <td>0</td>\n      <td>0</td>\n      <td>...</td>\n      <td>1</td>\n      <td>0</td>\n      <td>0</td>\n      <td>1</td>\n      <td>0</td>\n      <td>0</td>\n      <td>1</td>\n      <td>0</td>\n      <td>0</td>\n      <td>0</td>\n      <td>1</td>\n      <td>0</td>\n      <td>0</td>\n      <td>1</td>\n      <td>0</td>\n    </tr>\n    <tr>\n      <th>7041</th>\n      <td>4</td>\n      <td>74.40</td>\n      <td>306.60</td>\n      <td>1</td>\n      <td>0</td>\n      <td>1</td>\n      <td>0</td>\n      <td>1</td>\n      <td>0</td>\n      <td>1</td>\n      <td>1</td>\n      <td>0</td>\n      <td>0</td>\n      <td>1</td>\n      <td>0</td>\n      <td>...</td>\n      <td>1</td>\n      <td>0</td>\n      <td>0</td>\n      <td>1</td>\n      <td>0</td>\n      <td>0</td>\n      <td>1</td>\n      <td>0</td>\n      <td>0</td>\n      <td>0</td>\n      <td>1</td>\n      <td>0</td>\n      <td>0</td>\n      <td>0</td>\n      <td>1</td>\n    </tr>\n    <tr>\n      <th>7042</th>\n      <td>66</td>\n      <td>105.65</td>\n      <td>6844.50</td>\n      <td>0</td>\n      <td>0</td>\n      <td>1</td>\n      <td>1</td>\n      <td>0</td>\n      <td>1</td>\n      <td>0</td>\n      <td>1</td>\n      <td>0</td>\n      <td>0</td>\n      <td>1</td>\n      <td>1</td>\n      <td>...</td>\n      <td>0</td>\n      <td>0</td>\n      <td>1</td>\n      <td>0</td>\n      <td>0</td>\n      <td>1</td>\n      <td>0</td>\n      <td>0</td>\n      <td>1</td>\n      <td>0</td>\n      <td>1</td>\n      <td>1</td>\n      <td>0</td>\n      <td>0</td>\n      <td>0</td>\n    </tr>\n  </tbody>\n</table>\n<p>7043 rows \u00d7 47 columns</p>\n</div>",
            "text/plain": "      tenure  MonthlyCharges  TotalCharges  Churn  gender_Female  gender_Male  SeniorCitizen_No  SeniorCitizen_Yes  Partner_No  Partner_Yes  Dependents_No  Dependents_Yes  PhoneService_No  PhoneService_Yes  MultipleLines_No  ...  StreamingTV_No  StreamingTV_No internet service  StreamingTV_Yes  StreamingMovies_No  StreamingMovies_No internet service  StreamingMovies_Yes  Contract_Month-to-month  Contract_One year  Contract_Two year  PaperlessBilling_No  PaperlessBilling_Yes  PaymentMethod_Bank transfer (automatic)  PaymentMethod_Credit card (automatic)  PaymentMethod_Electronic check  PaymentMethod_Mailed check\n0          1           29.85         29.85      0              1            0                 1                  0           0            1              1               0                1                 0                 0  ...               1                                0                0                   1                                    0                    0                        1                  0                  0                    0                     1                                        0                                      0                               1                           0\n1         34           56.95       1889.50      0              0            1                 1                  0           1            0              1               0                0                 1                 1  ...               1                                0                0                   1                                    0                    0                        0                  1                  0                    1                     0                                        0                                      0                               0                           1\n2          2           53.85        108.15      1              0            1                 1                  0           1            0              1               0                0                 1                 1  ...               1                                0                0                   1                                    0                    0                        1                  0                  0                    0                     1                                        0                                      0                               0                           1\n3         45           42.30       1840.75      0              0            1                 1                  0           1            0              1               0                1                 0                 0  ...               1                                0                0                   1                                    0                    0                        0                  1                  0                    1                     0                                        1                                      0                               0                           0\n4          2           70.70        151.65      1              1            0                 1                  0           1            0              1               0                0                 1                 1  ...               1                                0                0                   1                                    0                    0                        1                  0                  0                    0                     1                                        0                                      0                               1                           0\n...      ...             ...           ...    ...            ...          ...               ...                ...         ...          ...            ...             ...              ...               ...               ...  ...             ...                              ...              ...                 ...                                  ...                  ...                      ...                ...                ...                  ...                   ...                                      ...                                    ...                             ...                         ...\n7038      24           84.80       1990.50      0              0            1                 1                  0           0            1              0               1                0                 1                 0  ...               0                                0                1                   0                                    0                    1                        0                  1                  0                    0                     1                                        0                                      0                               0                           1\n7039      72          103.20       7362.90      0              1            0                 1                  0           0            1              0               1                0                 1                 0  ...               0                                0                1                   0                                    0                    1                        0                  1                  0                    0                     1                                        0                                      1                               0                           0\n7040      11           29.60        346.45      0              1            0                 1                  0           0            1              0               1                1                 0                 0  ...               1                                0                0                   1                                    0                    0                        1                  0                  0                    0                     1                                        0                                      0                               1                           0\n7041       4           74.40        306.60      1              0            1                 0                  1           0            1              1               0                0                 1                 0  ...               1                                0                0                   1                                    0                    0                        1                  0                  0                    0                     1                                        0                                      0                               0                           1\n7042      66          105.65       6844.50      0              0            1                 1                  0           1            0              1               0                0                 1                 1  ...               0                                0                1                   0                                    0                    1                        0                  0                  1                    0                     1                                        1                                      0                               0                           0\n\n[7043 rows x 47 columns]"
          },
          "execution_count": 3,
          "metadata": {},
          "output_type": "execute_result"
        }
      ],
      "source": [
        "df_dummies: pd.DataFrame = pd.read_csv(\"../data/processed/df_dummies.csv\")\n",
        "df_dummies"
      ]
    },
    {
      "cell_type": "markdown",
      "id": "dcb097a4a6294ac7",
      "metadata": {
        "collapsed": false
      },
      "source": [
        "## Preprocessing"
      ]
    },
    {
      "cell_type": "code",
      "execution_count": 4,
      "id": "d4d01fdf4ed4862",
      "metadata": {
        "ExecuteTime": {
          "end_time": "2024-03-01T22:43:47.674355Z",
          "start_time": "2024-03-01T22:43:47.668856Z"
        },
        "collapsed": false
      },
      "outputs": [],
      "source": [
        "y: np.ndarray = df_dummies[\"Churn\"].values\n",
        "x: pd.DataFrame = df_dummies.drop(columns=[\"Churn\"])\n",
        "\n",
        "features: np.ndarray = x.columns.values"
      ]
    },
    {
      "cell_type": "markdown",
      "id": "2851b2d7f1341f49",
      "metadata": {
        "collapsed": false
      },
      "source": [
        "## Normalizing data"
      ]
    },
    {
      "cell_type": "code",
      "execution_count": 5,
      "id": "61341cbe948d555a",
      "metadata": {
        "ExecuteTime": {
          "end_time": "2024-03-01T22:43:47.685856Z",
          "start_time": "2024-03-01T22:43:47.675357Z"
        },
        "collapsed": false
      },
      "outputs": [],
      "source": [
        "standard_scaler: StandardScaler = StandardScaler()\n",
        "x_scaled = standard_scaler.fit_transform(x)"
      ]
    },
    {
      "cell_type": "markdown",
      "id": "585bf4a547002833",
      "metadata": {
        "collapsed": false
      },
      "source": [
        "# Splitting data"
      ]
    },
    {
      "cell_type": "code",
      "execution_count": 6,
      "id": "6dc239a44c25d2cd",
      "metadata": {
        "ExecuteTime": {
          "end_time": "2024-03-01T22:43:47.693357Z",
          "start_time": "2024-03-01T22:43:47.686856Z"
        },
        "collapsed": false
      },
      "outputs": [],
      "source": [
        "x_unbalanced, x_test, y_unbalanced, y_test = train_test_split(\n",
        "    x_scaled, y, test_size=0.2, random_state=42\n",
        ")"
      ]
    },
    {
      "cell_type": "markdown",
      "id": "1ef9eecd5e479f18",
      "metadata": {
        "collapsed": false
      },
      "source": [
        "## Balancing data"
      ]
    },
    {
      "cell_type": "code",
      "execution_count": 7,
      "id": "4c6969c606d971d",
      "metadata": {
        "ExecuteTime": {
          "end_time": "2024-03-01T22:43:47.786354Z",
          "start_time": "2024-03-01T22:43:47.694857Z"
        },
        "collapsed": false
      },
      "outputs": [],
      "source": [
        "smote: SMOTE = SMOTE(sampling_strategy=\"auto\", random_state=42)\n",
        "x_train, y_train = smote.fit_resample(x_unbalanced, y_unbalanced)"
      ]
    },
    {
      "cell_type": "markdown",
      "id": "731b16c8b8e5700e",
      "metadata": {
        "collapsed": false
      },
      "source": [
        "## Pipeline"
      ]
    },
    {
      "cell_type": "markdown",
      "id": "fd4d898d",
      "metadata": {},
      "source": [
        "### Training"
      ]
    },
    {
      "cell_type": "code",
      "execution_count": 8,
      "id": "5163bbbc",
      "metadata": {
        "ExecuteTime": {
          "end_time": "2024-03-01T22:43:47.792354Z",
          "start_time": "2024-03-01T22:43:47.787354Z"
        }
      },
      "outputs": [],
      "source": [
        "def train_model(\n",
        "    independent_training_data: np.ndarray,\n",
        "    dependant_training_data: np.ndarray,\n",
        "    pipeline: Pipeline,\n",
        "    param_grid: dict[str, Any],\n",
        ") -> tuple[Pipeline, GridSearchCV]:\n",
        "    \"\"\"\n",
        "    Train a model using GridSearchCV\n",
        "    :param independent_training_data: the independent variables of the training\n",
        "    data\n",
        "    :type independent_training_data: np.ndarray\n",
        "    :param dependant_training_data: the dependant variable for training\n",
        "    :type dependant_training_data: np.ndarray\n",
        "    :param pipeline: The pipeline to use\n",
        "    :type pipeline: Pipeline\n",
        "    :param param_grid: the parameters to tune the model\n",
        "    :type param_grid: dict[str, Any]\n",
        "    :return: The best model and its parameters\n",
        "    :rtype: tuple[Pipeline, GridSearchCV]\n",
        "    \"\"\"\n",
        "    grid_search: GridSearchCV = GridSearchCV(\n",
        "        pipeline, param_grid, scoring=\"accuracy\", cv=5\n",
        "    )\n",
        "    grid_search.fit(independent_training_data, dependant_training_data)\n",
        "    return grid_search.best_estimator_, grid_search"
      ]
    },
    {
      "cell_type": "markdown",
      "id": "668be71d",
      "metadata": {},
      "source": [
        "### Evaluation"
      ]
    },
    {
      "cell_type": "code",
      "execution_count": 9,
      "id": "bcf8b252",
      "metadata": {
        "ExecuteTime": {
          "end_time": "2024-03-01T22:43:47.799854Z",
          "start_time": "2024-03-01T22:43:47.793355Z"
        }
      },
      "outputs": [],
      "source": [
        "def evaluate_model(\n",
        "    model: Pipeline,\n",
        "    independent_testing_data: np.ndarray,\n",
        "    dependent_testing_data: np.ndarray,\n",
        ") -> None:\n",
        "    \"\"\"\n",
        "    Evaluate the model on the test set\n",
        "    :param model: The best model to evaluate\n",
        "    :type model: Pipeline\n",
        "    :param independent_testing_data: the test data for independent variables\n",
        "    :type independent_testing_data: np.ndarray\n",
        "    :param dependent_testing_data: the test data for dependant variable\n",
        "    :type dependent_testing_data: np.ndarray\n",
        "    :return: None\n",
        "    :rtype: NoneType\n",
        "    \"\"\"\n",
        "    y_pred: np.ndarray = model.predict(independent_testing_data)\n",
        "    if hasattr(model, \"predict_proba\"):\n",
        "        y_proba: np.ndarray = model.predict_proba(independent_testing_data)\n",
        "        roc_auc: float\n",
        "        if y_proba.shape[1] > 2:\n",
        "            y_test_binarized = label_binarize(\n",
        "                dependent_testing_data,\n",
        "                classes=np.unique(dependent_testing_data),\n",
        "            )\n",
        "            roc_auc = roc_auc_score(\n",
        "                y_test_binarized, y_proba, multi_class=\"ovr\"\n",
        "            )\n",
        "        else:\n",
        "            roc_auc = roc_auc_score(dependent_testing_data, y_proba[:, 1])\n",
        "        print(f\"ROC-AUC: {roc_auc:.4f}\")\n",
        "\n",
        "    accuracy: float = accuracy_score(dependent_testing_data, y_pred)\n",
        "    precision: float = precision_score(\n",
        "        dependent_testing_data, y_pred, average=\"weighted\"\n",
        "    )\n",
        "    recall: float = recall_score(\n",
        "        dependent_testing_data, y_pred, average=\"weighted\"\n",
        "    )\n",
        "    f1: float = f1_score(dependent_testing_data, y_pred, average=\"weighted\")\n",
        "\n",
        "    print(f\"Accuracy: {accuracy:.4f}\")\n",
        "    print(f\"Precision: {precision:.4f}\")\n",
        "    print(f\"Recall: {recall:.4f}\")\n",
        "    print(f\"F1-score: {f1:.4f}\")\n",
        "    print(\"Confusion Matrix:\")\n",
        "    print(confusion_matrix(dependent_testing_data, y_pred))"
      ]
    },
    {
      "cell_type": "markdown",
      "id": "ab6e3c9f09f0ae3b",
      "metadata": {
        "collapsed": false
      },
      "source": [
        "## Machine Learning models"
      ]
    },
    {
      "cell_type": "markdown",
      "id": "98c36c5aa39789ee",
      "metadata": {
        "collapsed": false
      },
      "source": [
        "### Support Vector Machine (SVM)"
      ]
    },
    {
      "cell_type": "code",
      "execution_count": 10,
      "id": "9a421fac8e90de32",
      "metadata": {
        "ExecuteTime": {
          "end_time": "2024-03-01T22:54:20.705855Z",
          "start_time": "2024-03-01T22:43:47.800853Z"
        },
        "collapsed": false
      },
      "outputs": [
        {
          "name": "stdout",
          "output_type": "stream",
          "text": [
            "Accuracy: 0.7651\n",
            "Precision: 0.7842\n",
            "Recall: 0.7651\n",
            "F1-score: 0.7719\n",
            "Confusion Matrix:\n",
            "[[829 207]\n",
            " [124 249]]\n"
          ]
        }
      ],
      "source": [
        "pipeline_svc: Pipeline = Pipeline(\n",
        "    [(\"scaler\", StandardScaler()), (\"svc\", SVC(random_state=42))]\n",
        ")\n",
        "param_grid_svc: dict[str, list[Any]] = {\n",
        "    \"svc__C\": [0.1, 1, 10, 100],\n",
        "    \"svc__kernel\": [\"linear\", \"rbf\"],\n",
        "    \"svc__gamma\": [\"scale\", \"auto\"],\n",
        "}\n",
        "best_model_svc, grid_search_svc = train_model(\n",
        "    x_train, y_train, pipeline_svc, param_grid_svc\n",
        ")\n",
        "evaluate_model(best_model_svc, x_test, y_test)"
      ]
    },
    {
      "cell_type": "code",
      "execution_count": 11,
      "id": "d898bce314dada25",
      "metadata": {
        "ExecuteTime": {
          "end_time": "2024-03-01T22:54:20.918855Z",
          "start_time": "2024-03-01T22:54:20.706355Z"
        },
        "collapsed": false
      },
      "outputs": [
        {
          "data": {
            "image/png": "[encoded data removed]",
            "text/plain": "<Figure size 572.625x500 with 1 Axes>"
          },
          "metadata": {},
          "output_type": "display_data"
        }
      ],
      "source": [
        "ax1 = sns.catplot(\n",
        "    data=dataframe,\n",
        "    x=\"gender\",\n",
        "    hue=\"Churn\",\n",
        "    kind=\"count\",\n",
        "    estimator=lambda e: sum(e == 0) * 100.0 / len(e),\n",
        ")"
      ]
    },
    {
      "cell_type": "markdown",
      "id": "e92b583831508cdf",
      "metadata": {
        "collapsed": false
      },
      "source": [
        "### Gradient Boosting Machines (GBM)"
      ]
    },
    {
      "cell_type": "code",
      "execution_count": 12,
      "id": "41517e5c802d7f1b",
      "metadata": {
        "ExecuteTime": {
          "end_time": "2024-03-01T23:10:36.812856Z",
          "start_time": "2024-03-01T22:54:20.919855Z"
        },
        "collapsed": false
      },
      "outputs": [
        {
          "name": "stdout",
          "output_type": "stream",
          "text": [
            "ROC-AUC: 0.8435\n",
            "Accuracy: 0.7963\n",
            "Precision: 0.7951\n",
            "Recall: 0.7963\n",
            "F1-score: 0.7957\n",
            "Confusion Matrix:\n",
            "[[896 140]\n",
            " [147 226]]\n"
          ]
        }
      ],
      "source": [
        "pipeline_gbm: Pipeline = Pipeline(\n",
        "    [(\"model\", GradientBoostingClassifier(random_state=42))]\n",
        ")\n",
        "param_grid_gbm: dict[str, list[Any]] = {\n",
        "    \"model__n_estimators\": [100, 200, 300],\n",
        "    \"model__learning_rate\": [0.01, 0.1, 0.2],\n",
        "    \"model__max_depth\": [3, 4, 5],\n",
        "    \"model__subsample\": [\n",
        "        0.8,\n",
        "        0.9,\n",
        "        1.0,\n",
        "    ],\n",
        "}\n",
        "best_model_gbm, grid_search_gbm = train_model(\n",
        "    x_train, y_train, pipeline_gbm, param_grid_gbm\n",
        ")\n",
        "evaluate_model(best_model_gbm, x_test, y_test)"
      ]
    },
    {
      "cell_type": "markdown",
      "id": "cfe7511f09a88ed0",
      "metadata": {
        "collapsed": false
      },
      "source": [
        "### Adaptive Boosting (AdaBoost)"
      ]
    },
    {
      "cell_type": "code",
      "execution_count": 13,
      "id": "79f2c857",
      "metadata": {
        "ExecuteTime": {
          "end_time": "2024-03-01T23:11:54.319356Z",
          "start_time": "2024-03-01T23:10:36.813356Z"
        }
      },
      "outputs": [
        {
          "name": "stdout",
          "output_type": "stream",
          "text": [
            "ROC-AUC: 0.8522\n",
            "Accuracy: 0.7892\n",
            "Precision: 0.8113\n",
            "Recall: 0.7892\n",
            "F1-score: 0.7963\n",
            "Confusion Matrix:\n",
            "[[838 198]\n",
            " [ 99 274]]\n"
          ]
        }
      ],
      "source": [
        "pipeline_adaboost: Pipeline = Pipeline(\n",
        "    [\n",
        "        (\n",
        "            \"model\",\n",
        "            AdaBoostClassifier(\n",
        "                DecisionTreeClassifier(max_depth=1, random_state=42),\n",
        "                algorithm=\"SAMME\",\n",
        "                random_state=42,\n",
        "            ),\n",
        "        )\n",
        "    ]\n",
        ")\n",
        "param_grid_adaboost: dict[str, list[Any]] = {\n",
        "    \"model__n_estimators\": [50, 100, 200],\n",
        "    \"model__learning_rate\": [0.01, 0.1, 1],\n",
        "    \"model__estimator__max_depth\": [1, 2],\n",
        "}\n",
        "best_model_adaboost, grid_search_adaboost = train_model(\n",
        "    x_train, y_train, pipeline_adaboost, param_grid_adaboost\n",
        ")\n",
        "evaluate_model(best_model_adaboost, x_test, y_test)"
      ]
    },
    {
      "cell_type": "markdown",
      "id": "39be947666b67ed8",
      "metadata": {
        "collapsed": false
      },
      "source": [
        "### Generalized Additive Models (GAM)"
      ]
    },
    {
      "cell_type": "code",
      "execution_count": 14,
      "id": "2264c45bc9095f6b",
      "metadata": {
        "ExecuteTime": {
          "end_time": "2024-03-01T23:11:54.323356Z",
          "start_time": "2024-03-01T23:11:54.320357Z"
        },
        "collapsed": false
      },
      "outputs": [],
      "source": [
        "lambdas: np.ndarray = np.logspace(-3, 3, 7)\n",
        "best_score: float = np.inf\n",
        "best_lambda = None\n",
        "best_model = None"
      ]
    },
    {
      "cell_type": "code",
      "execution_count": 15,
      "id": "70bd9fbc53b5b15e",
      "metadata": {
        "ExecuteTime": {
          "end_time": "2024-03-01T23:11:54.670961Z",
          "start_time": "2024-03-01T23:11:54.324356Z"
        },
        "collapsed": false
      },
      "outputs": [],
      "source": [
        "for lam in lambdas:\n",
        "    gam = LinearGAM(s(0, lam=lam) + s(1, lam=lam)).fit(x_train, y_train)\n",
        "    predictions: np.ndarray = gam.predict(x_test)\n",
        "    score: float = mean_squared_error(y_test, predictions)\n",
        "    if score < best_score:\n",
        "        best_score = score\n",
        "        best_lambda = lam\n",
        "        best_model = gam"
      ]
    },
    {
      "cell_type": "code",
      "execution_count": 16,
      "id": "96a6cb637e984df8",
      "metadata": {
        "ExecuteTime": {
          "end_time": "2024-03-01T23:11:54.675463Z",
          "start_time": "2024-03-01T23:11:54.671463Z"
        },
        "collapsed": false
      },
      "outputs": [
        {
          "name": "stdout",
          "output_type": "stream",
          "text": [
            "Best Lambda: 10.0\n",
            "Best MSE: 0.17436863242753023\n",
            "<class 'numpy.float64'> <class 'pygam.pygam.LinearGAM'> <class 'numpy.float64'>\n",
            "LinearGAM                                                                                                 \n",
            "=============================================== ==========================================================\n",
            "Distribution:                        NormalDist Effective DoF:                                     24.1164\n",
            "Link Function:                     IdentityLink Log Likelihood:                                -16853.3034\n",
            "Number of Samples:                         8276 AIC:                                            33756.8395\n",
            "                                                AICc:                                           33756.9985\n",
            "                                                GCV:                                                0.1748\n",
            "                                                Scale:                                              0.1739\n",
            "                                                Pseudo R-Squared:                                   0.3064\n",
            "==========================================================================================================\n",
            "Feature Function                  Lambda               Rank         EDoF         P > x        Sig. Code   \n",
            "================================= ==================== ============ ============ ============ ============\n",
            "s(0)                              [10.]                20           12.8         1.11e-16     ***         \n",
            "s(1)                              [10.]                20           11.4         1.11e-16     ***         \n",
            "intercept                                              1            0.0          1.11e-16     ***         \n",
            "==========================================================================================================\n",
            "Significance codes:  0 '***' 0.001 '**' 0.01 '*' 0.05 '.' 0.1 ' ' 1\n",
            "\n",
            "WARNING: Fitting splines and a linear function to a feature introduces a model identifiability problem\n",
            "         which can cause p-values to appear significant when they are not.\n",
            "\n",
            "WARNING: p-values calculated in this manner behave correctly for un-penalized models or models with\n",
            "         known smoothing parameters, but when smoothing parameters have been estimated, the p-values\n",
            "         are typically lower than they should be, meaning that the tests reject the null too readily.\n",
            "None\n"
          ]
        },
        {
          "name": "stderr",
          "output_type": "stream",
          "text": [
            "C:\\Users\\juanp\\AppData\\Local\\Temp\\ipykernel_15068\\2151649304.py:4: UserWarning: KNOWN BUG: p-values computed in this summary are likely much smaller than they should be. \n",
            " \n",
            "Please do not make inferences based on these values! \n",
            "\n",
            "Collaborate on a solution, and stay up to date at: \n",
            "github.com/dswah/pyGAM/issues/163 \n",
            "\n",
            "  print(best_model.summary())\n"
          ]
        }
      ],
      "source": [
        "print(f\"Best Lambda: {best_lambda}\")\n",
        "print(f\"Best MSE: {best_score}\")\n",
        "print(type(best_lambda), type(best_model), type(best_score))\n",
        "print(best_model.summary())"
      ]
    },
    {
      "cell_type": "markdown",
      "id": "baf1c79c4a6fb5e7",
      "metadata": {
        "collapsed": false
      },
      "source": [
        "### Random Forest"
      ]
    },
    {
      "cell_type": "code",
      "execution_count": 17,
      "id": "ec7e190a299afa2",
      "metadata": {
        "ExecuteTime": {
          "end_time": "2024-03-01T23:22:54.422194Z",
          "start_time": "2024-03-01T23:11:54.676464Z"
        },
        "collapsed": false
      },
      "outputs": [
        {
          "name": "stdout",
          "output_type": "stream",
          "text": [
            "ROC-AUC: 0.8377\n",
            "Accuracy: 0.7921\n",
            "Precision: 0.7937\n",
            "Recall: 0.7921\n",
            "F1-score: 0.7928\n",
            "Confusion Matrix:\n",
            "[[885 151]\n",
            " [142 231]]\n"
          ]
        }
      ],
      "source": [
        "pipeline_rf: Pipeline = Pipeline(\n",
        "    [\n",
        "        (\"scaler\", StandardScaler()),\n",
        "        (\"rf\", RandomForestClassifier(n_jobs=-1, random_state=42)),\n",
        "    ]\n",
        ")\n",
        "\n",
        "param_grid_rf: dict[str, list[Any]] = {\n",
        "    \"rf__n_estimators\": [100, 200, 300],\n",
        "    \"rf__max_depth\": [None, 10, 20, 30],\n",
        "    \"rf__min_samples_split\": [2, 5, 10],\n",
        "    \"rf__min_samples_leaf\": [1, 2, 4],\n",
        "    \"rf__max_features\": [\"sqrt\", \"log2\", None],\n",
        "}\n",
        "\n",
        "best_model_rf, grid_search_rf = train_model(\n",
        "    x_train, y_train, pipeline_rf, param_grid_rf\n",
        ")\n",
        "evaluate_model(best_model_rf, x_test, y_test)"
      ]
    },
    {
      "cell_type": "code",
      "execution_count": 17,
      "id": "e59a9297168fb9bd",
      "metadata": {
        "ExecuteTime": {
          "end_time": "2024-03-01T23:22:54.427692Z",
          "start_time": "2024-03-01T23:22:54.423194Z"
        },
        "collapsed": false
      },
      "outputs": [],
      "source": []
    }
  ],
  "metadata": {
    "kernelspec": {
      "display_name": "Python 3",
      "language": "python",
      "name": "python3"
    },
    "language_info": {
      "codemirror_mode": {
        "name": "ipython",
        "version": 2
      },
      "file_extension": ".py",
      "mimetype": "text/x-python",
      "name": "python",
      "nbconvert_exporter": "python",
      "pygments_lexer": "ipython2",
      "version": "2.7.6"
    }
  },
  "nbformat": 4,
  "nbformat_minor": 5
}
